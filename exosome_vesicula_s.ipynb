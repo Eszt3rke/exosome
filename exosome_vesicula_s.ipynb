{
 "cells": [
  {
   "cell_type": "markdown",
   "metadata": {},
   "source": [
    "# exosome DNA"
   ]
  },
  {
   "cell_type": "markdown",
   "metadata": {},
   "source": [
    "https://www.ncbi.nlm.nih.gov/sra/?term=exosome+DNA\n",
    "\n",
    "\n"
   ]
  },
  {
   "cell_type": "code",
   "execution_count": 1,
   "metadata": {},
   "outputs": [
    {
     "name": "stdout",
     "output_type": "stream",
     "text": [
      "exosome_vesicula.ipynb\n"
     ]
    }
   ],
   "source": [
    "%%bash\n",
    "\n",
    "ls"
   ]
  },
  {
   "cell_type": "markdown",
   "metadata": {},
   "source": [
    "### PRJNA449399\n",
    "\n",
    "This study examined somatic mutation and copy number alteration detected in urinary exosomal and cell-free DNA from urothelial carcinoma of bladder.\n",
    "\n",
    "__DNA-seq of exosome from urine: adult male__\n",
    "\n",
    "SRR6974116\n",
    "\n",
    "SRR6974120\n",
    "\n",
    "SRR6974125\n",
    "\n",
    "SRR6974129\n",
    "\n",
    "SRR6974138\n",
    "\n",
    "SRR6974140\n",
    "\n",
    "SRR6974143\n",
    "\n",
    "SRR6974147"
   ]
  },
  {
   "cell_type": "code",
   "execution_count": 6,
   "metadata": {},
   "outputs": [],
   "source": [
    "#%%bash\n",
    "\n",
    "#cd /home/eszter/exosome\n",
    "\n",
    "#export PATH=$PATH:/data/tools/edirect\n",
    "#export PATH=$PATH:/data/tools/sratoolkit.2.9.2-ubuntu64/bin/\n",
    "\n",
    "#srrs=\"SRRs.txt\"\n",
    "\n",
    "#esearch -db sra -query PRJNA449399 | efetch --format runinfo | cut -d \",\" -f 1 > $srrs\n",
    "#projektben sok más is van!!!! figyelmesen!!!\n",
    "\n",
    "\n",
    "#while read -r line\n",
    "#do\n",
    "    name=\"$line\"\n",
    "    fastq-dump $name\n",
    "#done < \"$srrs\"\n",
    "\n",
    "ls\n",
    "\n",
    "#masik modszer példa\n",
    "#while read row; do sra_id=$(esearch -db sra -query $row </dev/null | efetch -format docsum | xtract -pattern Runs -element Run@acc); fastq-dump -A $sra_id --split-files; done < file_with_ids.txt"
   ]
  },
  {
   "cell_type": "code",
   "execution_count": 25,
   "metadata": {},
   "outputs": [
    {
     "name": "stdout",
     "output_type": "stream",
     "text": [
      "\n",
      "Usage:\n",
      "  fastq-dump [options] <path> [<path>...]\n",
      "  fastq-dump [options] <accession>\n",
      "\n",
      "INPUT\n",
      "  -A|--accession <accession>       Replaces accession derived from <path> in \n",
      "                                   filename(s) and deflines (only for single \n",
      "                                   table dump) \n",
      "  --table <table-name>             Table name within cSRA object, default is \n",
      "                                   \"SEQUENCE\" \n",
      "\n",
      "PROCESSING\n",
      "\n",
      "Read Splitting                     Sequence data may be used in raw form or\n",
      "                                     split into individual reads\n",
      "  --split-spot                     Split spots into individual reads \n",
      "\n",
      "Full Spot Filters                  Applied to the full spot independently\n",
      "                                     of --split-spot\n",
      "  -N|--minSpotId <rowid>           Minimum spot id \n",
      "  -X|--maxSpotId <rowid>           Maximum spot id \n",
      "  --spot-groups <[list]>           Filter by SPOT_GROUP (member): name[,...] \n",
      "  -W|--clip                        Remove adapter sequences from reads \n",
      "\n",
      "Common Filters                     Applied to spots when --split-spot is not\n",
      "                                     set, otherwise - to individual reads\n",
      "  -M|--minReadLen <len>            Filter by sequence length >= <len> \n",
      "  -R|--read-filter <[filter]>      Split into files by READ_FILTER value \n",
      "                                   optionally filter by value: \n",
      "                                   pass|reject|criteria|redacted \n",
      "  -E|--qual-filter                 Filter used in early 1000 Genomes data: no \n",
      "                                   sequences starting or ending with >= 10N \n",
      "  --qual-filter-1                  Filter used in current 1000 Genomes data \n",
      "\n",
      "Filters based on alignments        Filters are active when alignment\n",
      "                                     data are present\n",
      "  --aligned                        Dump only aligned sequences \n",
      "  --unaligned                      Dump only unaligned sequences \n",
      "  --aligned-region <name[:from-to]>  Filter by position on genome. Name can \n",
      "                                   either be accession.version (ex: \n",
      "                                   NC_000001.10) or file specific name (ex: \n",
      "                                   \"chr1\" or \"1\"). \"from\" and \"to\" are 1-based \n",
      "                                   coordinates \n",
      "  --matepair-distance <from-to|unknown>  Filter by distance between matepairs. \n",
      "                                   Use \"unknown\" to find matepairs split \n",
      "                                   between the references. Use from-to to limit \n",
      "                                   matepair distance on the same reference \n",
      "\n",
      "Filters for individual reads       Applied only with --split-spot set\n",
      "  --skip-technical                 Dump only biological reads \n",
      "\n",
      "OUTPUT\n",
      "  -O|--outdir <path>               Output directory, default is working \n",
      "                                   directory '.' ) \n",
      "  -Z|--stdout                      Output to stdout, all split data become \n",
      "                                   joined into single stream \n",
      "  --gzip                           Compress output using gzip \n",
      "  --bzip2                          Compress output using bzip2 \n",
      "\n",
      "Multiple File Options              Setting these options will produce more\n",
      "                                     than 1 file, each of which will be suffixed\n",
      "                                     according to splitting criteria.\n",
      "  --split-files                    Dump each read into separate file.Files \n",
      "                                   will receive suffix corresponding to read \n",
      "                                   number \n",
      "  --split-3                        Legacy 3-file splitting for mate-pairs: \n",
      "                                   First biological reads satisfying dumping \n",
      "                                   conditions are placed in files *_1.fastq and \n",
      "                                   *_2.fastq If only one biological read is \n",
      "                                   present it is placed in *.fastq Biological \n",
      "                                   reads and above are ignored. \n",
      "  -G|--spot-group                  Split into files by SPOT_GROUP (member name) \n",
      "  -R|--read-filter <[filter]>      Split into files by READ_FILTER value \n",
      "                                   optionally filter by value: \n",
      "                                   pass|reject|criteria|redacted \n",
      "  -T|--group-in-dirs               Split into subdirectories instead of files \n",
      "  -K|--keep-empty-files            Do not delete empty files \n",
      "\n",
      "FORMATTING\n",
      "\n",
      "Sequence\n",
      "  -C|--dumpcs <[cskey]>            Formats sequence using color space (default \n",
      "                                   for SOLiD),\"cskey\" may be specified for \n",
      "                                   translation \n",
      "  -B|--dumpbase                    Formats sequence using base space (default \n",
      "                                   for other than SOLiD). \n",
      "\n",
      "Quality\n",
      "  -Q|--offset <integer>            Offset to use for quality conversion, \n",
      "                                   default is 33 \n",
      "  --fasta <[line width]>           FASTA only, no qualities, optional line \n",
      "                                   wrap width (set to zero for no wrapping) \n",
      "  --suppress-qual-for-cskey        suppress quality-value for cskey \n",
      "\n",
      "Defline\n",
      "  -F|--origfmt                     Defline contains only original sequence name \n",
      "  -I|--readids                     Append read id after spot id as \n",
      "                                   'accession.spot.readid' on defline \n",
      "  --helicos                        Helicos style defline \n",
      "  --defline-seq <fmt>              Defline format specification for sequence. \n",
      "  --defline-qual <fmt>             Defline format specification for quality. \n",
      "                                   <fmt> is string of characters and/or \n",
      "                                   variables. The variables can be one of: $ac \n",
      "                                   - accession, $si spot id, $sn spot \n",
      "                                   name, $sg spot group (barcode), $sl spot \n",
      "                                   length in bases, $ri read number, $rn \n",
      "                                   read name, $rl read length in bases. '[]' \n",
      "                                   could be used for an optional output: if \n",
      "                                   all vars in [] yield empty values whole \n",
      "                                   group is not printed. Empty value is empty \n",
      "                                   string or for numeric variables. Ex: \n",
      "                                   @$sn[_$rn]/$ri '_$rn' is omitted if name \n",
      "                                   is empty\n",
      " \n",
      "OTHER:\n",
      "  --disable-multithreading         disable multithreading \n",
      "  -h|--help                        Output brief explanation of program usage \n",
      "  -V|--version                     Display the version of the program \n",
      "  -L|--log-level <level>           Logging level as number or enum string One \n",
      "                                   of (fatal|sys|int|err|warn|info) or (0-5) \n",
      "                                   Current/default is warn \n",
      "  -v|--verbose                     Increase the verbosity level of the program \n",
      "                                   Use multiple times for more verbosity \n",
      "  --ncbi_error_report              Control program execution environment \n",
      "                                   report generation (if implemented). One of \n",
      "                                   (never|error|always). Default is error \n",
      "  --legacy-report                  use legacy style 'Written spots' for tool \n",
      "\n",
      "fastq-dump : 2.9.2\n",
      "\n"
     ]
    }
   ],
   "source": [
    "%%bash\n",
    "\n",
    "export PATH=$PATH:/data/tools/sratoolkit.2.9.2-ubuntu64/bin/\n",
    "\n",
    "fastq-dump --help"
   ]
  },
  {
   "cell_type": "code",
   "execution_count": null,
   "metadata": {},
   "outputs": [],
   "source": [
    "#terminalban!!!!\n",
    "\n",
    "cd /data/eszter\n",
    "\n",
    "mkdir exosome\n",
    "\n",
    "cd exosome \n",
    "\n",
    "mkdir reads\n",
    "\n",
    "cd /data/eszter/exosome/reads\n",
    "export PATH=$PATH:/data/tools/sratoolkit.2.9.2-ubuntu64/bin/\n",
    "\n",
    "#nohup fastq-dump --defline-seq '@$sn[_$rn]/$ri' --defline-qual '+$sn[_$rn]/$ri' --split-files SRR6974116\n",
    "#nohup fastq-dump --defline-seq '@$sn[_$rn]/$ri' --defline-qual '+$sn[_$rn]/$ri' --split-files SRR6974120\n",
    "#nohup fastq-dump --defline-seq '@$sn[_$rn]/$ri' --defline-qual '+$sn[_$rn]/$ri' --split-files SRR6974125\n",
    "#nohup fastq-dump --defline-seq '@$sn[_$rn]/$ri' --defline-qual '+$sn[_$rn]/$ri' --split-files SRR6974129\n",
    "#nohup fastq-dump --defline-seq '@$sn[_$rn]/$ri' --defline-qual '+$sn[_$rn]/$ri' --split-files SRR6974138\n",
    "#nohup fastq-dump --defline-seq '@$sn[_$rn]/$ri' --defline-qual '+$sn[_$rn]/$ri' --split-files SRR6974140\n",
    "#nohup fastq-dump --defline-seq '@$sn[_$rn]/$ri' --defline-qual '+$sn[_$rn]/$ri' --split-files SRR6974143\n",
    "nohup fastq-dump --defline-seq '@$sn[_$rn]/$ri' --defline-qual '+$sn[_$rn]/$ri' --split-files SRR6974147"
   ]
  },
  {
   "cell_type": "code",
   "execution_count": 62,
   "metadata": {},
   "outputs": [
    {
     "name": "stdout",
     "output_type": "stream",
     "text": [
      "SRR6974116\n",
      "SRR6974120\n",
      "SRR6974125\n",
      "SRR6974129\n",
      "SRR6974138\n",
      "SRR6974140\n",
      "SRR6974143\n",
      "SRR6974147\n",
      "total 20K\n",
      "-rw-rw-r-- 1 eszter eszter 176 Nov 24 14:23 SRRs.txt\n",
      "-rw------- 1 eszter eszter   0 Nov 24 14:15 nohup.out\n",
      "-rw-rw-r-- 1 eszter eszter  88 Nov 24 14:12 srrs\n"
     ]
    }
   ],
   "source": [
    "%%bash\n",
    "\n",
    "cd /data/eszter/exosome/reads\n",
    "export PATH=$PATH:/data/tools/sratoolkit.2.9.2-ubuntu64/bin/\n",
    "\n",
    "srrs=\"SRRs.txt\"\n",
    "\n",
    "echo \"SRR6974116\n",
    "SRR6974120\n",
    "SRR6974125\n",
    "SRR6974129\n",
    "SRR6974138\n",
    "SRR6974140\n",
    "SRR6974143\n",
    "SRR6974147\" > SRRs.txt\n",
    "\n",
    "#>> SRRs.txt így appendol egy sort/sorokat\n",
    "#> SRRs.txt így felülírja\n",
    "\n",
    "cat srrs\n",
    "\n",
    "ls -lh\n",
    "\n",
    " while read -r line\n",
    "do\n",
    " name=\"$line\"\n",
    " nohup fastq-dump --defline-seq '@$sn[_$rn]/$ri' --defline-qual '+$sn[_$rn]/$ri' --split-files $name\n",
    "done < srrs"
   ]
  },
  {
   "cell_type": "code",
   "execution_count": null,
   "metadata": {},
   "outputs": [],
   "source": [
    "%%bash\n",
    "\n",
    "cd /data/eszter/exosome/reads\n",
    "\n",
    "ls -lh"
   ]
  },
  {
   "cell_type": "markdown",
   "metadata": {},
   "source": [
    "### PRJNA343657\n",
    "exosomal DNA for cancer diagnosis\n",
    "\n",
    "__DNA-seq of exosome: MDA-MB-231 cell__\n",
    "\n",
    "SRR4280650\n",
    "\n",
    "\n",
    "__DNA-seq of exosome: MDA-MB-231 exosome__\n",
    "\n",
    "SRR4280649\n",
    "\n",
    "SRR4280648"
   ]
  },
  {
   "cell_type": "code",
   "execution_count": null,
   "metadata": {},
   "outputs": [],
   "source": [
    "#%%bash\n",
    "\n",
    "#cd /home/eszter/exosome/reads\n",
    "\n",
    "#export PATH=$PATH:/data/tools/edirect\n",
    "#export PATH=$PATH:/data/tools/sratoolkit.2.9.2-ubuntu64/bin/\n",
    "\n",
    "#srrs=\"SRRs.txt\"\n",
    "#esearch -db sra -query PRJNA343657 | efetch --format runinfo | cut -d \",\" -f 1 > $srrs\n",
    "\n",
    "#while read -r line\n",
    "#do\n",
    "#echo $line\n",
    "#name=\"$line\"\n",
    "#fastq-dump $name\n",
    "#done < \"$srrs\""
   ]
  },
  {
   "cell_type": "code",
   "execution_count": null,
   "metadata": {},
   "outputs": [],
   "source": [
    "%%bash\n",
    "\n",
    "cd /data/eszter/exosome/reads\n",
    "\n",
    "export PATH=$PATH:/data/tools/sratoolkit.2.9.2-ubuntu64/bin/\n",
    "\n",
    "\n",
    "nohup fastq-dump --defline-seq '@$sn[_$rn]/$ri' --defline-qual '+$sn[_$rn]/$ri' --split-files SRR4280649\n",
    "nohup fastq-dump --defline-seq '@$sn[_$rn]/$ri' --defline-qual '+$sn[_$rn]/$ri' --split-files SRR4280648\n"
   ]
  },
  {
   "cell_type": "code",
   "execution_count": 66,
   "metadata": {},
   "outputs": [
    {
     "name": "stdout",
     "output_type": "stream",
     "text": [
      "SRR4280649\n",
      "SRR4280648\n",
      "total 2.6G\n",
      "-rw-rw-r-- 1 eszter eszter 1.3G Nov 24 14:37 SRR6974116_1.fastq\n",
      "-rw-rw-r-- 1 eszter eszter 1.3G Nov 24 14:37 SRR6974116_2.fastq\n",
      "-rw-rw-r-- 1 eszter eszter  176 Nov 24 14:23 SRRs.txt\n",
      "-rw-rw-r-- 1 eszter eszter   22 Nov 24 14:37 SRRs2.txt\n",
      "-rw------- 1 eszter eszter    0 Nov 24 14:15 nohup.out\n",
      "-rw-rw-r-- 1 eszter eszter   88 Nov 24 14:12 srrs\n"
     ]
    }
   ],
   "source": [
    "%%bash\n",
    "\n",
    "cd /data/eszter/exosome/reads\n",
    "export PATH=$PATH:/data/tools/sratoolkit.2.9.2-ubuntu64/bin/\n",
    "\n",
    "srrs2=\"SRRs2.txt\"\n",
    "\n",
    "echo \"SRR4280649\n",
    "SRR4280648\" > SRRs2.txt\n",
    "\n",
    "cat SRRs2.txt\n",
    "\n",
    "ls -lh\n",
    "\n",
    "#####terminalban######\n",
    "\n",
    "# while read -r line\n",
    "#do\n",
    "# name=\"$line\"\n",
    "# nohup fastq-dump --defline-seq '@$sn[_$rn]/$ri' --defline-qual '+$sn[_$rn]/$ri' --split-files $name\n",
    "#done < srrs"
   ]
  },
  {
   "cell_type": "code",
   "execution_count": null,
   "metadata": {},
   "outputs": [],
   "source": [
    "###terminal\n",
    "\n",
    "cd /data/eszter/exosome/reads\n",
    "export PATH=$PATH:/data/tools/sratoolkit.2.9.2-ubuntu64/bin/\n",
    "\n",
    " while read -r line\n",
    "do\n",
    " name=\"$line\"\n",
    " nohup fastq-dump --defline-seq '@$sn[_$rn]/$ri' --defline-qual '+$sn[_$rn]/$ri' --split-files $name\n",
    "done < SRRs2.txt"
   ]
  },
  {
   "cell_type": "markdown",
   "metadata": {},
   "source": [
    "## próba egyben letöltésre, deinterleave merge"
   ]
  },
  {
   "cell_type": "code",
   "execution_count": 86,
   "metadata": {},
   "outputs": [
    {
     "ename": "SyntaxError",
     "evalue": "invalid syntax (<ipython-input-86-e2c1b993f19e>, line 3)",
     "output_type": "error",
     "traceback": [
      "\u001b[0;36m  File \u001b[0;32m\"<ipython-input-86-e2c1b993f19e>\"\u001b[0;36m, line \u001b[0;32m3\u001b[0m\n\u001b[0;31m    fastq-dump --defline-seq '@$sn[_$rn]/$ri' --defline-qual '+$sn[_$rn]/$ri' --split-files SRR6974143\u001b[0m\n\u001b[0m                                            ^\u001b[0m\n\u001b[0;31mSyntaxError\u001b[0m\u001b[0;31m:\u001b[0m invalid syntax\n"
     ]
    }
   ],
   "source": [
    "#proba egyben\n",
    "export PATH=$PATH:/data/tools/sratoolkit.2.9.2-ubuntu64/bin/\n",
    " nohup fastq-dump --defline-seq '@$sn[_$rn]/$ri' --defline-qual '+$sn[_$rn]/$ri' --split-files SRR6974143"
   ]
  },
  {
   "cell_type": "code",
   "execution_count": 91,
   "metadata": {},
   "outputs": [
    {
     "name": "stdout",
     "output_type": "stream",
     "text": [
      "@SRR6974134.1 1 length=297\n",
      "CTAACCCTAACCCTAACCCTAACCCTAACCCTAACCCTAACCCTAACCCTAACCCTAACCCTAACCCTAACCCTAACCCTAACCCAAACCCTAACCCTAACCCAACCCTAACCCTAACCCTAACCCCAACCCTAACCCCAACCCTAACCCCGGGTCAGAGTCGGGTTGGGGTTGGGGTTGGGTTTAGGGTTGGGGTTGGGGTTAGGGGTTAGGGTTAGGGTTAGGGTTGGGGTTAGGGTTAGGGTTAGGGTTGGGTTAGGGTTAGGGTTTGGGTTAGGGGTAGGGGTGGGGGTAGGG\n",
      "+SRR6974134.1 1 length=297\n",
      "??=@AAAA@@A<AA@@AAAA@@BAABA@BAA=@=AA?BA@BB>5?@A?A5@@0771?A0A@5AABBAB;@0B>40?02A4<7=B?.7BC0B44A>AA4/?ADB@@/?A04?-@2</26>B4<A/-A..@..?//7/>@./9<:94355678==;==<>==;:7=<>,=?>?;=>><6=>???;:>?@?=8?@@?????@@@?>*?A@0<-+:@@A/-:BAA@+=A>A0290AA>+?;083-;=@.0-;CB.>B@C/?,;BA.B.;=<=?/=?C/.&;>C1<5ABB113;:?+2-987\n",
      "@SRR6974134.2 2 length=301\n",
      "AGCACAGACCCGGAGAGCACCGCGAGGGCGGAGCTGCGTTGTCCTCTGCACAGATTTCGGTGGTACTCTGAAGGCGGAGCACAGTTCTCCTCAGGTCAGACCCGGGCGAGCGGGCCGGCTGAGGGTACCGCGAGGGTTAGGGTTAGGGTTTAACCCCTAACCCTAACCCTAACCCTAACCCTAACCCTCGCGGTACCCTCAGCCGGCCCGCTCGCCCGGGTCTGACCTGAGGAGAACTGTGCTCCGCCTTCAGAGTACCACCGAAATCTGTGCAGAGGACAACGCAGCTCCGCCCTCGCGG\n",
      "+SRR6974134.2 2 length=301\n",
      "13>A@5@>A@<1A@@@BB@=B:A<=@3@B<A-=<@B?<A@=AAABBBBCAB>B>@?AB=BACBA==ABC?A2=A0;B@CBBBBC>ABCBBCBACBBBBB@CCC;7BB==8B00A?A<;>BBABAAA>AA7A;-;??@?.6/18/.75567=1<>===>:;=>?>==>>>?>=>?=??>?=???>???>98@8=?8@@@A@@A=@;?@AA2<?=9=AA:AA@=><6BA@AABB?B?@?;9AC<@/B<-B>.BB>01=?BB.AB:A+81:B@9=-=5>31;//AA;.@B<:A?7<9877273:\n",
      "@SRR6974134.3 3 length=302\n",
      "CTAACCCTAACCCTAACCCTCGCGGTACCCTCAGCCGGCCCGCCCGCCCGGGTCTGACCTGAGGAGAACTGTGCTCCGCCTTCAGAGTACCACCGAAATCTGTGCAGAGGACAACGCAGCTCCGCCCTCGCGGTGCTCTCCGGGTCTGTGCCGCCGGCGGAGTTGCGTTCTCCTCAGCACAGACCCGGAGAGCACCGCGAGGGCGGAGCTGCGTTGTCCTCTGCACAGATTTCGGTGGTACTCTGAAGGCGGAGCACAGTTCTCCTCAGGTCAGACCCGGGCGGGCGGGCCGGCTGAGGGTA\n"
     ]
    }
   ],
   "source": [
    "%%bash\n",
    "head SRR6974134.fastq"
   ]
  },
  {
   "cell_type": "code",
   "execution_count": 92,
   "metadata": {},
   "outputs": [],
   "source": [
    "%%bash\n",
    "\n",
    "export PATH=$PATH:/data/tools/mix\n",
    "\n",
    "f='SRR6974134.fastq'\n",
    "base=\"$(cut -d'.' -f1 <<<$f)\"\n",
    "\n",
    "deinterleave_fastq.sh < $f $base'_forward.fq' $base'_reverse.fq'\n"
   ]
  },
  {
   "cell_type": "code",
   "execution_count": 100,
   "metadata": {},
   "outputs": [
    {
     "name": "stdout",
     "output_type": "stream",
     "text": [
      "total 98G\n",
      "-rw-rw-r-- 1 eszter eszter 2.8G Nov 23 15:01 SRR6974114.fastq\n",
      "-rw-rw-r-- 1 eszter eszter 3.6G Nov 20 18:40 SRR6974115.fastq\n",
      "-rw-rw-r-- 1 eszter eszter 289M Nov 23 15:06 SRR6974116.fastq\n",
      "-rw-rw-r-- 1 eszter eszter 1.2G Nov 23 15:06 SRR6974117.fastq\n",
      "-rw-rw-r-- 1 eszter eszter 1.2G Nov 23 15:12 SRR6974118.fastq\n",
      "-rw-rw-r-- 1 eszter eszter 3.5G Nov 20 23:33 SRR6974119.fastq\n",
      "-rw-rw-r-- 1 eszter eszter 2.3G Nov 23 21:45 SRR6974120.fastq\n",
      "-rw-rw-r-- 1 eszter eszter  25G Nov 23 21:23 SRR6974121.fastq\n",
      "-rw-rw-r-- 1 eszter eszter 2.9G Nov 23 22:31 SRR6974122.fastq\n",
      "-rw-rw-r-- 1 eszter eszter 3.3G Nov 23 22:12 SRR6974123.fastq\n",
      "-rw-rw-r-- 1 eszter eszter 6.1G Nov 24 09:46 SRR6974124.fastq\n",
      "-rw-rw-r-- 1 eszter eszter 1.9G Nov 24 10:20 SRR6974125.fastq\n",
      "-rw-rw-r-- 1 eszter eszter 1.3G Nov 24 05:59 SRR6974126.fastq\n",
      "-rw-rw-r-- 1 eszter eszter 2.0G Nov 24 06:27 SRR6974127.fastq\n",
      "-rw-rw-r-- 1 eszter eszter 4.0G Nov 24 12:10 SRR6974128.fastq\n",
      "-rw-rw-r-- 1 eszter eszter 939M Nov 24 12:13 SRR6974129.fastq\n",
      "-rw-rw-r-- 1 eszter eszter 1.7G Nov 24 10:43 SRR6974130.fastq\n",
      "-rw-rw-r-- 1 eszter eszter 1.7G Nov 24 11:10 SRR6974131.fastq\n",
      "-rw-rw-r-- 1 eszter eszter 1.9G Nov 24 12:34 SRR6974132.fastq\n",
      "-rw-rw-r-- 1 eszter eszter 1.6G Nov 24 12:48 SRR6974133.fastq\n",
      "-rw-rw-r-- 1 eszter eszter  16G Nov 25 01:18 SRR6974134.fastq\n",
      "-rw-rw-r-- 1 eszter eszter 1.6G Nov 27 21:22 SRR6974134__merged_bb.fq\n",
      "-rw-rw-r-- 1 eszter eszter 7.7G Nov 27 21:01 SRR6974134_forward.fq\n",
      "-rw-rw-r-- 1 eszter eszter 108M Nov 27 21:24 SRR6974134_merged.fq.assembled.fastq\n",
      "-rw-rw-r-- 1 eszter eszter    0 Nov 27 21:17 SRR6974134_merged.fq.discarded.fastq\n",
      "-rw-rw-r-- 1 eszter eszter  66M Nov 27 21:24 SRR6974134_merged.fq.unassembled.forward.fastq\n",
      "-rw-rw-r-- 1 eszter eszter  66M Nov 27 21:24 SRR6974134_merged.fq.unassembled.reverse.fastq\n",
      "-rw-rw-r-- 1 eszter eszter    0 Nov 27 21:16 SRR6974134_pandaseq_merged.fastq\n",
      "-rw-rw-r-- 1 eszter eszter 7.7G Nov 27 21:01 SRR6974134_reverse.fq\n",
      "-rw-rw-r-- 1 eszter eszter 1.9G Nov 24 20:24 SRR6974135.fastq\n",
      "-rw-rw-r-- 1 eszter eszter 2.0G Nov 24 20:12 SRR6974136.fastq\n",
      "-rw-rw-r-- 1 eszter eszter  16G Nov 24 19:41 SRR6974137.fastq\n",
      "-rw-rw-r-- 1 eszter eszter 2.4G Nov 24 05:46 SRR6974138.fastq\n",
      "-rw-rw-r-- 1 eszter eszter  24G Nov 24 05:29 SRR6974139.fastq\n",
      "-rw-rw-r-- 1 eszter eszter 2.0G Nov 25 01:45 SRR6974140.fastq\n",
      "-rw-rw-r-- 1 eszter eszter 2.5G Nov 23 23:59 SRR6974141.fastq\n",
      "-rw-rw-r-- 1 eszter eszter 3.0G Nov 23 23:34 SRR6974142.fastq\n",
      "-rw-rw-r-- 1 eszter eszter 1.8G Nov 23 22:57 SRR6974143.fastq\n",
      "-rw-rw-r-- 1 eszter eszter 1.2G Nov 23 22:41 SRR6974144.fastq\n",
      "-rw-rw-r-- 1 eszter eszter 2.4G Nov 24 01:40 SRR6974145.fastq\n",
      "-rw-rw-r-- 1 eszter eszter 1.9G Nov 24 01:19 SRR6974146.fastq\n",
      "-rw-rw-r-- 1 eszter eszter 2.4G Nov 24 00:51 SRR6974147.fastq\n",
      "-rw-rw-r-- 1 eszter eszter 2.2G Nov 24 00:26 SRR6974148.fastq\n",
      "-rw-rw-r-- 1 eszter eszter  390 Nov 23 12:50 SRRs.txt\n",
      "-rw-rw-r-- 1 eszter eszter  86K Nov 27 21:26 exosome_vesicula.ipynb\n",
      "drwxrwxr-x 2 eszter eszter   27 Nov 24 13:54 reads\n"
     ]
    }
   ],
   "source": [
    "%%bash\n",
    "\n",
    "ls -lh"
   ]
  },
  {
   "cell_type": "code",
   "execution_count": 3,
   "metadata": {},
   "outputs": [
    {
     "name": "stdout",
     "output_type": "stream",
     "text": [
      "total 32G\n",
      "-rw-rw-r-- 1 eszter eszter  17G Nov 23 03:44 SRR4280648_1.fastq\n",
      "-rw-rw-r-- 1 eszter eszter  17G Nov 23 03:44 SRR4280648_2.fastq\n",
      "-rw-rw-r-- 1 eszter eszter 7.9G Nov 22 23:22 SRR4280649_1.fastq\n",
      "-rw-rw-r-- 1 eszter eszter 7.9G Nov 22 23:22 SRR4280649_2.fastq\n",
      "-rw-rw-r-- 1 eszter eszter 1.9G Nov 22 22:35 SRR6974116_1.fastq\n",
      "-rw-rw-r-- 1 eszter eszter 1.9G Nov 22 22:35 SRR6974116_2.fastq\n",
      "-rw-rw-r-- 1 eszter eszter 1.3G Nov 22 21:43 SRR6974120_1.fastq\n",
      "-rw-rw-r-- 1 eszter eszter 1.3G Nov 22 21:43 SRR6974120_2.fastq\n",
      "-rw-rw-r-- 1 eszter eszter 1.1G Nov 22 22:17 SRR6974125_1.fastq\n",
      "-rw-rw-r-- 1 eszter eszter 1.1G Nov 22 22:17 SRR6974125_2.fastq\n",
      "-rw-rw-r-- 1 eszter eszter 523M Nov 22 21:19 SRR6974129_1.fastq\n",
      "-rw-rw-r-- 1 eszter eszter 521M Nov 22 21:19 SRR6974129_2.fastq\n",
      "-rw-rw-r-- 1 eszter eszter    0 Nov 24 13:54 SRR6974129__merged.fq.assembled.fastq\n",
      "-rw-rw-r-- 1 eszter eszter    0 Nov 24 13:54 SRR6974129__merged.fq.discarded.fastq\n",
      "-rw-rw-r-- 1 eszter eszter    0 Nov 24 13:54 SRR6974129__merged.fq.unassembled.forward.fastq\n",
      "-rw-rw-r-- 1 eszter eszter    0 Nov 24 13:54 SRR6974129__merged.fq.unassembled.reverse.fastq\n",
      "-rw-rw-r-- 1 eszter eszter 1.3G Nov 22 21:34 SRR6974138_1.fastq\n",
      "-rw-rw-r-- 1 eszter eszter 1.3G Nov 22 21:34 SRR6974138_2.fastq\n",
      "-rw-rw-r-- 1 eszter eszter 1.1G Nov 22 22:07 SRR6974140_1.fastq\n",
      "-rw-rw-r-- 1 eszter eszter 1.1G Nov 22 22:07 SRR6974140_2.fastq\n",
      "-rw-rw-r-- 1 eszter eszter 1.1G Nov 22 21:35 SRR6974143_1.fastq\n",
      "-rw-rw-r-- 1 eszter eszter 1.0G Nov 22 21:35 SRR6974143_2.fastq\n",
      "-rw-rw-r-- 1 eszter eszter 1.4G Nov 22 21:44 SRR6974147_1.fastq\n",
      "-rw-rw-r-- 1 eszter eszter 1.3G Nov 22 21:44 SRR6974147_2.fastq\n",
      "-rw------- 1 eszter eszter 1.3K Nov 22 22:35 nohup.out\n"
     ]
    }
   ],
   "source": [
    "%%bash\n",
    "\n",
    "cd /home/eszter/exosome/reads\n",
    "\n",
    "ls -lh"
   ]
  },
  {
   "cell_type": "code",
   "execution_count": null,
   "metadata": {},
   "outputs": [],
   "source": [
    "%%bash\n",
    "\n",
    "export PATH=$PATH:/data/tools/pear-0.9.11-linux-x86_64/bin\n",
    "\n",
    "pear -f SRR6974134_forward.fq -r SRR6974134_reverse.fq -o SRR6974134_merged.fq\n",
    "\n",
    "#megcsinálta"
   ]
  },
  {
   "cell_type": "code",
   "execution_count": null,
   "metadata": {},
   "outputs": [],
   "source": [
    "%%bash\n",
    "\n",
    "export PATH=$PATH:/data/tools/pandaseq/\n",
    "\n",
    "pandaseq -F -f SRR6974134_forward.fq -r SRR6974134_reverse.fq -d rbfkms -u SRR6974134_pandaseq_merged.fastq\n",
    "\n",
    "#nem csinálta meg\n"
   ]
  },
  {
   "cell_type": "code",
   "execution_count": null,
   "metadata": {},
   "outputs": [],
   "source": [
    "%%bash\n",
    "\n",
    "export PATH=$PATH:/data/tools/bbmap\n",
    "\n",
    "\n",
    "bbmerge.sh in1=SRR6974134_forward.fq in2=SRR6974134_reverse.fq out=SRR6974134__merged_bb.fq\n",
    "\n",
    "\n",
    "##bbmerge legjobb!"
   ]
  },
  {
   "cell_type": "code",
   "execution_count": null,
   "metadata": {},
   "outputs": [],
   "source": [
    "%%bash\n",
    "\n",
    "export PATH=$PATH:/data/tools/vsearch/bin\n",
    "    \n",
    "#vsearch --threads 10 --fastq_mergepairs K8_forward.fq --reverse K8_reverse.fq --fastqout K8_merged_vs.fq"
   ]
  },
  {
   "cell_type": "markdown",
   "metadata": {},
   "source": [
    "# merge"
   ]
  },
  {
   "cell_type": "code",
   "execution_count": null,
   "metadata": {},
   "outputs": [],
   "source": [
    "SRR6974116\n",
    "SRR6974120\n",
    "SRR6974125\n",
    "SRR6974129\n",
    "SRR6974138\n",
    "SRR6974140\n",
    "SRR6974143\n",
    "SRR6974147\n",
    "SRR4280649\n",
    "SRR4280648"
   ]
  },
  {
   "cell_type": "code",
   "execution_count": null,
   "metadata": {},
   "outputs": [],
   "source": [
    "%%bash\n",
    "\n",
    "cd /data/eszter/exosome/reads\n",
    "\n",
    "ls -lh"
   ]
  },
  {
   "cell_type": "code",
   "execution_count": 85,
   "metadata": {},
   "outputs": [
    {
     "name": "stdout",
     "output_type": "stream",
     "text": [
      "@1/2\n",
      "NNNTAAATGGAATTTTAAAAACTATGTAATTTTGCATGTATCTTTTTTTTTTTTGGTTTTAGGGAGCGGAAAGTTTA\n",
      "+1/2\n",
      "###AAEEEEEEEEEEEEEEEEEEEEEEEEEEEEEEEEEEEEEEEEEEEEEEEEE//EEEAE/E/A/AE/EEE6EEEE\n",
      "@2/2\n",
      "NNNAAGATTACAGGCACATGCCACCACTCCTGGCTAATGTTTATATTTTTAGTAGAGACAGTGTTTTACCATGTTGC\n",
      "+2/2\n",
      "###AAEEEEEEEEEEEEEEEEE<EEAEEEEEEEEEEEEEEEEEEEEEEEEEEEEEEE<EEEEE<EEEAEEAEEEEAE\n",
      "@3/2\n",
      "NNNTGACGGCAGAGATGAGCCCATGACCAAAGCTCTGCTTGCCTCTTAGAAAAGCGGTTACAATGAAAAAGAGGGAG\n"
     ]
    }
   ],
   "source": [
    "%%bash\n",
    "\n",
    "cd /data/eszter/exosome/reads\n",
    "\n",
    "head SRR4280649_2.fastq"
   ]
  },
  {
   "cell_type": "code",
   "execution_count": 56,
   "metadata": {},
   "outputs": [
    {
     "name": "stdout",
     "output_type": "stream",
     "text": [
      " ____  _____    _    ____ \n",
      "|  _ \\| ____|  / \\  |  _ \\\n",
      "| |_) |  _|   / _ \\ | |_) |\n",
      "|  __/| |___ / ___ \\|  _ <\n",
      "|_|   |_____/_/   \\_\\_| \\_\\\n",
      "\n",
      "PEAR v0.9.11 [Nov 5, 2017]\n",
      "\n",
      "Citation - PEAR: a fast and accurate Illumina Paired-End reAd mergeR\n",
      "Zhang et al (2014) Bioinformatics 30(5): 614-620 | doi:10.1093/bioinformatics/btt593\n",
      "\n",
      "Forward reads file.................: SRR6974129_1.fastq\n",
      "Reverse reads file.................: SRR6974129_2.fastq\n",
      "PHRED..............................: 33\n",
      "Using empirical frequencies........: YES\n",
      "Statistical method.................: OES\n",
      "Maximum assembly length............: 999999\n",
      "Minimum assembly length............: 50\n",
      "p-value............................: 0.010000\n",
      "Quality score threshold (trimming).: 0\n",
      "Minimum read size after trimming...: 1\n",
      "Maximal ratio of uncalled bases....: 1.000000\n",
      "Minimum overlap....................: 10\n",
      "Scoring method.....................: Scaled score\n",
      "Threads............................: 1\n",
      "\n",
      "Allocating memory..................: 200,000,000 bytes\n",
      "Computing empirical frequencies....: "
     ]
    },
    {
     "name": "stderr",
     "output_type": "stream",
     "text": [
      "1 Problem, number of reads does not match! n1 = 5557 n2 = 0\n",
      "bash: line 6: 22626 Aborted                 pear -f SRR6974129_1.fastq -r SRR6974129_2.fastq -o SRR6974129__merged.fq\n"
     ]
    },
    {
     "ename": "CalledProcessError",
     "evalue": "Command 'b'\\ncd /home/eszter/exosome/reads\\n\\nexport PATH=$PATH:/data/tools/pear-0.9.11-linux-x86_64/bin\\n\\npear -f SRR6974129_1.fastq -r SRR6974129_2.fastq -o SRR6974129__merged.fq\\n'' returned non-zero exit status 134.",
     "output_type": "error",
     "traceback": [
      "\u001b[0;31m---------------------------------------------------------------------------\u001b[0m",
      "\u001b[0;31mCalledProcessError\u001b[0m                        Traceback (most recent call last)",
      "\u001b[0;32m<ipython-input-56-7a3c6fa50e5f>\u001b[0m in \u001b[0;36m<module>\u001b[0;34m\u001b[0m\n\u001b[0;32m----> 1\u001b[0;31m \u001b[0mget_ipython\u001b[0m\u001b[0;34m(\u001b[0m\u001b[0;34m)\u001b[0m\u001b[0;34m.\u001b[0m\u001b[0mrun_cell_magic\u001b[0m\u001b[0;34m(\u001b[0m\u001b[0;34m'bash'\u001b[0m\u001b[0;34m,\u001b[0m \u001b[0;34m''\u001b[0m\u001b[0;34m,\u001b[0m \u001b[0;34m'\\ncd /home/eszter/exosome/reads\\n\\nexport PATH=$PATH:/data/tools/pear-0.9.11-linux-x86_64/bin\\n\\npear -f SRR6974129_1.fastq -r SRR6974129_2.fastq -o SRR6974129__merged.fq\\n'\u001b[0m\u001b[0;34m)\u001b[0m\u001b[0;34m\u001b[0m\u001b[0m\n\u001b[0m",
      "\u001b[0;32m/usr/local/lib/python3.6/dist-packages/IPython/core/interactiveshell.py\u001b[0m in \u001b[0;36mrun_cell_magic\u001b[0;34m(self, magic_name, line, cell)\u001b[0m\n\u001b[1;32m   2319\u001b[0m             \u001b[0mmagic_arg_s\u001b[0m \u001b[0;34m=\u001b[0m \u001b[0mself\u001b[0m\u001b[0;34m.\u001b[0m\u001b[0mvar_expand\u001b[0m\u001b[0;34m(\u001b[0m\u001b[0mline\u001b[0m\u001b[0;34m,\u001b[0m \u001b[0mstack_depth\u001b[0m\u001b[0;34m)\u001b[0m\u001b[0;34m\u001b[0m\u001b[0m\n\u001b[1;32m   2320\u001b[0m             \u001b[0;32mwith\u001b[0m \u001b[0mself\u001b[0m\u001b[0;34m.\u001b[0m\u001b[0mbuiltin_trap\u001b[0m\u001b[0;34m:\u001b[0m\u001b[0;34m\u001b[0m\u001b[0m\n\u001b[0;32m-> 2321\u001b[0;31m                 \u001b[0mresult\u001b[0m \u001b[0;34m=\u001b[0m \u001b[0mfn\u001b[0m\u001b[0;34m(\u001b[0m\u001b[0mmagic_arg_s\u001b[0m\u001b[0;34m,\u001b[0m \u001b[0mcell\u001b[0m\u001b[0;34m)\u001b[0m\u001b[0;34m\u001b[0m\u001b[0m\n\u001b[0m\u001b[1;32m   2322\u001b[0m             \u001b[0;32mreturn\u001b[0m \u001b[0mresult\u001b[0m\u001b[0;34m\u001b[0m\u001b[0m\n\u001b[1;32m   2323\u001b[0m \u001b[0;34m\u001b[0m\u001b[0m\n",
      "\u001b[0;32m/usr/local/lib/python3.6/dist-packages/IPython/core/magics/script.py\u001b[0m in \u001b[0;36mnamed_script_magic\u001b[0;34m(line, cell)\u001b[0m\n\u001b[1;32m    140\u001b[0m             \u001b[0;32melse\u001b[0m\u001b[0;34m:\u001b[0m\u001b[0;34m\u001b[0m\u001b[0m\n\u001b[1;32m    141\u001b[0m                 \u001b[0mline\u001b[0m \u001b[0;34m=\u001b[0m \u001b[0mscript\u001b[0m\u001b[0;34m\u001b[0m\u001b[0m\n\u001b[0;32m--> 142\u001b[0;31m             \u001b[0;32mreturn\u001b[0m \u001b[0mself\u001b[0m\u001b[0;34m.\u001b[0m\u001b[0mshebang\u001b[0m\u001b[0;34m(\u001b[0m\u001b[0mline\u001b[0m\u001b[0;34m,\u001b[0m \u001b[0mcell\u001b[0m\u001b[0;34m)\u001b[0m\u001b[0;34m\u001b[0m\u001b[0m\n\u001b[0m\u001b[1;32m    143\u001b[0m \u001b[0;34m\u001b[0m\u001b[0m\n\u001b[1;32m    144\u001b[0m         \u001b[0;31m# write a basic docstring:\u001b[0m\u001b[0;34m\u001b[0m\u001b[0;34m\u001b[0m\u001b[0m\n",
      "\u001b[0;32m<decorator-gen-109>\u001b[0m in \u001b[0;36mshebang\u001b[0;34m(self, line, cell)\u001b[0m\n",
      "\u001b[0;32m/usr/local/lib/python3.6/dist-packages/IPython/core/magic.py\u001b[0m in \u001b[0;36m<lambda>\u001b[0;34m(f, *a, **k)\u001b[0m\n\u001b[1;32m    185\u001b[0m     \u001b[0;31m# but it's overkill for just that one bit of state.\u001b[0m\u001b[0;34m\u001b[0m\u001b[0;34m\u001b[0m\u001b[0m\n\u001b[1;32m    186\u001b[0m     \u001b[0;32mdef\u001b[0m \u001b[0mmagic_deco\u001b[0m\u001b[0;34m(\u001b[0m\u001b[0marg\u001b[0m\u001b[0;34m)\u001b[0m\u001b[0;34m:\u001b[0m\u001b[0;34m\u001b[0m\u001b[0m\n\u001b[0;32m--> 187\u001b[0;31m         \u001b[0mcall\u001b[0m \u001b[0;34m=\u001b[0m \u001b[0;32mlambda\u001b[0m \u001b[0mf\u001b[0m\u001b[0;34m,\u001b[0m \u001b[0;34m*\u001b[0m\u001b[0ma\u001b[0m\u001b[0;34m,\u001b[0m \u001b[0;34m**\u001b[0m\u001b[0mk\u001b[0m\u001b[0;34m:\u001b[0m \u001b[0mf\u001b[0m\u001b[0;34m(\u001b[0m\u001b[0;34m*\u001b[0m\u001b[0ma\u001b[0m\u001b[0;34m,\u001b[0m \u001b[0;34m**\u001b[0m\u001b[0mk\u001b[0m\u001b[0;34m)\u001b[0m\u001b[0;34m\u001b[0m\u001b[0m\n\u001b[0m\u001b[1;32m    188\u001b[0m \u001b[0;34m\u001b[0m\u001b[0m\n\u001b[1;32m    189\u001b[0m         \u001b[0;32mif\u001b[0m \u001b[0mcallable\u001b[0m\u001b[0;34m(\u001b[0m\u001b[0marg\u001b[0m\u001b[0;34m)\u001b[0m\u001b[0;34m:\u001b[0m\u001b[0;34m\u001b[0m\u001b[0m\n",
      "\u001b[0;32m/usr/local/lib/python3.6/dist-packages/IPython/core/magics/script.py\u001b[0m in \u001b[0;36mshebang\u001b[0;34m(self, line, cell)\u001b[0m\n\u001b[1;32m    243\u001b[0m             \u001b[0msys\u001b[0m\u001b[0;34m.\u001b[0m\u001b[0mstderr\u001b[0m\u001b[0;34m.\u001b[0m\u001b[0mflush\u001b[0m\u001b[0;34m(\u001b[0m\u001b[0;34m)\u001b[0m\u001b[0;34m\u001b[0m\u001b[0m\n\u001b[1;32m    244\u001b[0m         \u001b[0;32mif\u001b[0m \u001b[0margs\u001b[0m\u001b[0;34m.\u001b[0m\u001b[0mraise_error\u001b[0m \u001b[0;32mand\u001b[0m \u001b[0mp\u001b[0m\u001b[0;34m.\u001b[0m\u001b[0mreturncode\u001b[0m\u001b[0;34m!=\u001b[0m\u001b[0;36m0\u001b[0m\u001b[0;34m:\u001b[0m\u001b[0;34m\u001b[0m\u001b[0m\n\u001b[0;32m--> 245\u001b[0;31m             \u001b[0;32mraise\u001b[0m \u001b[0mCalledProcessError\u001b[0m\u001b[0;34m(\u001b[0m\u001b[0mp\u001b[0m\u001b[0;34m.\u001b[0m\u001b[0mreturncode\u001b[0m\u001b[0;34m,\u001b[0m \u001b[0mcell\u001b[0m\u001b[0;34m,\u001b[0m \u001b[0moutput\u001b[0m\u001b[0;34m=\u001b[0m\u001b[0mout\u001b[0m\u001b[0;34m,\u001b[0m \u001b[0mstderr\u001b[0m\u001b[0;34m=\u001b[0m\u001b[0merr\u001b[0m\u001b[0;34m)\u001b[0m\u001b[0;34m\u001b[0m\u001b[0m\n\u001b[0m\u001b[1;32m    246\u001b[0m \u001b[0;34m\u001b[0m\u001b[0m\n\u001b[1;32m    247\u001b[0m     \u001b[0;32mdef\u001b[0m \u001b[0m_run_script\u001b[0m\u001b[0;34m(\u001b[0m\u001b[0mself\u001b[0m\u001b[0;34m,\u001b[0m \u001b[0mp\u001b[0m\u001b[0;34m,\u001b[0m \u001b[0mcell\u001b[0m\u001b[0;34m,\u001b[0m \u001b[0mto_close\u001b[0m\u001b[0;34m)\u001b[0m\u001b[0;34m:\u001b[0m\u001b[0;34m\u001b[0m\u001b[0m\n",
      "\u001b[0;31mCalledProcessError\u001b[0m: Command 'b'\\ncd /home/eszter/exosome/reads\\n\\nexport PATH=$PATH:/data/tools/pear-0.9.11-linux-x86_64/bin\\n\\npear -f SRR6974129_1.fastq -r SRR6974129_2.fastq -o SRR6974129__merged.fq\\n'' returned non-zero exit status 134."
     ]
    }
   ],
   "source": [
    "%%bash\n",
    "\n",
    "cd /data/eszter/exosome/reads\n",
    "\n",
    "export PATH=$PATH:/data/tools/pear-0.9.11-linux-x86_64/bin\n",
    "\n",
    "pear -f SRR6974129_1.fastq -r SRR6974129_2.fastq -o SRR6974129__merged.fq"
   ]
  },
  {
   "cell_type": "code",
   "execution_count": 59,
   "metadata": {},
   "outputs": [
    {
     "name": "stdout",
     "output_type": "stream",
     "text": [
      "total 0\n"
     ]
    }
   ],
   "source": [
    "%%bash\n",
    "\n",
    "cd /data/eszter/exosome/reads\n",
    "\n",
    "ls -lh"
   ]
  },
  {
   "cell_type": "code",
   "execution_count": 58,
   "metadata": {},
   "outputs": [],
   "source": [
    "%%bash\n",
    "\n",
    "#cd /data/eszter/exosome/reads\n",
    "\n",
    "#rm -rf /data/eszter/exosome/reads/*"
   ]
  },
  {
   "cell_type": "markdown",
   "metadata": {},
   "source": [
    "## tools\n",
    "\n",
    "pear\n",
    "\n",
    "pandaseq\n",
    "\n",
    "bbmerge\n"
   ]
  },
  {
   "cell_type": "code",
   "execution_count": 52,
   "metadata": {},
   "outputs": [
    {
     "name": "stdout",
     "output_type": "stream",
     "text": [
      " ____  _____    _    ____ \n",
      "|  _ \\| ____|  / \\  |  _ \\\n",
      "| |_) |  _|   / _ \\ | |_) |\n",
      "|  __/| |___ / ___ \\|  _ <\n",
      "|_|   |_____/_/   \\_\\_| \\_\\\n",
      "\n",
      "PEAR v0.9.11 [Nov 5, 2017]\n",
      "\n",
      "Citation - PEAR: a fast and accurate Illumina Paired-End reAd mergeR\n",
      "Zhang et al (2014) Bioinformatics 30(5): 614-620 | doi:10.1093/bioinformatics/btt593\n",
      "\n",
      "Forward reads file.................: SRR6974129_1.fastq\n",
      "Reverse reads file.................: SRR6974129_2.fastq\n",
      "PHRED..............................: 33\n",
      "Using empirical frequencies........: YES\n",
      "Statistical method.................: OES\n",
      "Maximum assembly length............: 999999\n",
      "Minimum assembly length............: 50\n",
      "p-value............................: 0.010000\n",
      "Quality score threshold (trimming).: 0\n",
      "Minimum read size after trimming...: 1\n",
      "Maximal ratio of uncalled bases....: 1.000000\n",
      "Minimum overlap....................: 10\n",
      "Scoring method.....................: Scaled score\n",
      "Threads............................: 1\n",
      "\n",
      "Allocating memory..................: 200,000,000 bytes\n",
      "Computing empirical frequencies....: "
     ]
    },
    {
     "name": "stderr",
     "output_type": "stream",
     "text": [
      "1 Problem, number of reads does not match! n1 = 5557 n2 = 0\n",
      "bash: line 6: 19329 Aborted                 pear -f SRR6974129_1.fastq -r SRR6974129_2.fastq -o SRR6974129__merged.fq\n"
     ]
    },
    {
     "ename": "CalledProcessError",
     "evalue": "Command 'b'\\ncd /data/eszter/exosome/reads\\n\\nexport PATH=$PATH:/data/tools/pear-0.9.11-linux-x86_64/bin\\n\\npear -f SRR6974129_1.fastq -r SRR6974129_2.fastq -o SRR6974129__merged.fq\\n'' returned non-zero exit status 134.",
     "output_type": "error",
     "traceback": [
      "\u001b[0;31m---------------------------------------------------------------------------\u001b[0m",
      "\u001b[0;31mCalledProcessError\u001b[0m                        Traceback (most recent call last)",
      "\u001b[0;32m<ipython-input-52-43194d187571>\u001b[0m in \u001b[0;36m<module>\u001b[0;34m\u001b[0m\n\u001b[0;32m----> 1\u001b[0;31m \u001b[0mget_ipython\u001b[0m\u001b[0;34m(\u001b[0m\u001b[0;34m)\u001b[0m\u001b[0;34m.\u001b[0m\u001b[0mrun_cell_magic\u001b[0m\u001b[0;34m(\u001b[0m\u001b[0;34m'bash'\u001b[0m\u001b[0;34m,\u001b[0m \u001b[0;34m''\u001b[0m\u001b[0;34m,\u001b[0m \u001b[0;34m'\\ncd /data/eszter/exosome/reads\\n\\nexport PATH=$PATH:/data/tools/pear-0.9.11-linux-x86_64/bin\\n\\npear -f SRR6974129_1.fastq -r SRR6974129_2.fastq -o SRR6974129__merged.fq\\n'\u001b[0m\u001b[0;34m)\u001b[0m\u001b[0;34m\u001b[0m\u001b[0m\n\u001b[0m",
      "\u001b[0;32m/usr/local/lib/python3.6/dist-packages/IPython/core/interactiveshell.py\u001b[0m in \u001b[0;36mrun_cell_magic\u001b[0;34m(self, magic_name, line, cell)\u001b[0m\n\u001b[1;32m   2319\u001b[0m             \u001b[0mmagic_arg_s\u001b[0m \u001b[0;34m=\u001b[0m \u001b[0mself\u001b[0m\u001b[0;34m.\u001b[0m\u001b[0mvar_expand\u001b[0m\u001b[0;34m(\u001b[0m\u001b[0mline\u001b[0m\u001b[0;34m,\u001b[0m \u001b[0mstack_depth\u001b[0m\u001b[0;34m)\u001b[0m\u001b[0;34m\u001b[0m\u001b[0m\n\u001b[1;32m   2320\u001b[0m             \u001b[0;32mwith\u001b[0m \u001b[0mself\u001b[0m\u001b[0;34m.\u001b[0m\u001b[0mbuiltin_trap\u001b[0m\u001b[0;34m:\u001b[0m\u001b[0;34m\u001b[0m\u001b[0m\n\u001b[0;32m-> 2321\u001b[0;31m                 \u001b[0mresult\u001b[0m \u001b[0;34m=\u001b[0m \u001b[0mfn\u001b[0m\u001b[0;34m(\u001b[0m\u001b[0mmagic_arg_s\u001b[0m\u001b[0;34m,\u001b[0m \u001b[0mcell\u001b[0m\u001b[0;34m)\u001b[0m\u001b[0;34m\u001b[0m\u001b[0m\n\u001b[0m\u001b[1;32m   2322\u001b[0m             \u001b[0;32mreturn\u001b[0m \u001b[0mresult\u001b[0m\u001b[0;34m\u001b[0m\u001b[0m\n\u001b[1;32m   2323\u001b[0m \u001b[0;34m\u001b[0m\u001b[0m\n",
      "\u001b[0;32m/usr/local/lib/python3.6/dist-packages/IPython/core/magics/script.py\u001b[0m in \u001b[0;36mnamed_script_magic\u001b[0;34m(line, cell)\u001b[0m\n\u001b[1;32m    140\u001b[0m             \u001b[0;32melse\u001b[0m\u001b[0;34m:\u001b[0m\u001b[0;34m\u001b[0m\u001b[0m\n\u001b[1;32m    141\u001b[0m                 \u001b[0mline\u001b[0m \u001b[0;34m=\u001b[0m \u001b[0mscript\u001b[0m\u001b[0;34m\u001b[0m\u001b[0m\n\u001b[0;32m--> 142\u001b[0;31m             \u001b[0;32mreturn\u001b[0m \u001b[0mself\u001b[0m\u001b[0;34m.\u001b[0m\u001b[0mshebang\u001b[0m\u001b[0;34m(\u001b[0m\u001b[0mline\u001b[0m\u001b[0;34m,\u001b[0m \u001b[0mcell\u001b[0m\u001b[0;34m)\u001b[0m\u001b[0;34m\u001b[0m\u001b[0m\n\u001b[0m\u001b[1;32m    143\u001b[0m \u001b[0;34m\u001b[0m\u001b[0m\n\u001b[1;32m    144\u001b[0m         \u001b[0;31m# write a basic docstring:\u001b[0m\u001b[0;34m\u001b[0m\u001b[0;34m\u001b[0m\u001b[0m\n",
      "\u001b[0;32m<decorator-gen-109>\u001b[0m in \u001b[0;36mshebang\u001b[0;34m(self, line, cell)\u001b[0m\n",
      "\u001b[0;32m/usr/local/lib/python3.6/dist-packages/IPython/core/magic.py\u001b[0m in \u001b[0;36m<lambda>\u001b[0;34m(f, *a, **k)\u001b[0m\n\u001b[1;32m    185\u001b[0m     \u001b[0;31m# but it's overkill for just that one bit of state.\u001b[0m\u001b[0;34m\u001b[0m\u001b[0;34m\u001b[0m\u001b[0m\n\u001b[1;32m    186\u001b[0m     \u001b[0;32mdef\u001b[0m \u001b[0mmagic_deco\u001b[0m\u001b[0;34m(\u001b[0m\u001b[0marg\u001b[0m\u001b[0;34m)\u001b[0m\u001b[0;34m:\u001b[0m\u001b[0;34m\u001b[0m\u001b[0m\n\u001b[0;32m--> 187\u001b[0;31m         \u001b[0mcall\u001b[0m \u001b[0;34m=\u001b[0m \u001b[0;32mlambda\u001b[0m \u001b[0mf\u001b[0m\u001b[0;34m,\u001b[0m \u001b[0;34m*\u001b[0m\u001b[0ma\u001b[0m\u001b[0;34m,\u001b[0m \u001b[0;34m**\u001b[0m\u001b[0mk\u001b[0m\u001b[0;34m:\u001b[0m \u001b[0mf\u001b[0m\u001b[0;34m(\u001b[0m\u001b[0;34m*\u001b[0m\u001b[0ma\u001b[0m\u001b[0;34m,\u001b[0m \u001b[0;34m**\u001b[0m\u001b[0mk\u001b[0m\u001b[0;34m)\u001b[0m\u001b[0;34m\u001b[0m\u001b[0m\n\u001b[0m\u001b[1;32m    188\u001b[0m \u001b[0;34m\u001b[0m\u001b[0m\n\u001b[1;32m    189\u001b[0m         \u001b[0;32mif\u001b[0m \u001b[0mcallable\u001b[0m\u001b[0;34m(\u001b[0m\u001b[0marg\u001b[0m\u001b[0;34m)\u001b[0m\u001b[0;34m:\u001b[0m\u001b[0;34m\u001b[0m\u001b[0m\n",
      "\u001b[0;32m/usr/local/lib/python3.6/dist-packages/IPython/core/magics/script.py\u001b[0m in \u001b[0;36mshebang\u001b[0;34m(self, line, cell)\u001b[0m\n\u001b[1;32m    243\u001b[0m             \u001b[0msys\u001b[0m\u001b[0;34m.\u001b[0m\u001b[0mstderr\u001b[0m\u001b[0;34m.\u001b[0m\u001b[0mflush\u001b[0m\u001b[0;34m(\u001b[0m\u001b[0;34m)\u001b[0m\u001b[0;34m\u001b[0m\u001b[0m\n\u001b[1;32m    244\u001b[0m         \u001b[0;32mif\u001b[0m \u001b[0margs\u001b[0m\u001b[0;34m.\u001b[0m\u001b[0mraise_error\u001b[0m \u001b[0;32mand\u001b[0m \u001b[0mp\u001b[0m\u001b[0;34m.\u001b[0m\u001b[0mreturncode\u001b[0m\u001b[0;34m!=\u001b[0m\u001b[0;36m0\u001b[0m\u001b[0;34m:\u001b[0m\u001b[0;34m\u001b[0m\u001b[0m\n\u001b[0;32m--> 245\u001b[0;31m             \u001b[0;32mraise\u001b[0m \u001b[0mCalledProcessError\u001b[0m\u001b[0;34m(\u001b[0m\u001b[0mp\u001b[0m\u001b[0;34m.\u001b[0m\u001b[0mreturncode\u001b[0m\u001b[0;34m,\u001b[0m \u001b[0mcell\u001b[0m\u001b[0;34m,\u001b[0m \u001b[0moutput\u001b[0m\u001b[0;34m=\u001b[0m\u001b[0mout\u001b[0m\u001b[0;34m,\u001b[0m \u001b[0mstderr\u001b[0m\u001b[0;34m=\u001b[0m\u001b[0merr\u001b[0m\u001b[0;34m)\u001b[0m\u001b[0;34m\u001b[0m\u001b[0m\n\u001b[0m\u001b[1;32m    246\u001b[0m \u001b[0;34m\u001b[0m\u001b[0m\n\u001b[1;32m    247\u001b[0m     \u001b[0;32mdef\u001b[0m \u001b[0m_run_script\u001b[0m\u001b[0;34m(\u001b[0m\u001b[0mself\u001b[0m\u001b[0;34m,\u001b[0m \u001b[0mp\u001b[0m\u001b[0;34m,\u001b[0m \u001b[0mcell\u001b[0m\u001b[0;34m,\u001b[0m \u001b[0mto_close\u001b[0m\u001b[0;34m)\u001b[0m\u001b[0;34m:\u001b[0m\u001b[0;34m\u001b[0m\u001b[0m\n",
      "\u001b[0;31mCalledProcessError\u001b[0m: Command 'b'\\ncd /data/eszter/exosome/reads\\n\\nexport PATH=$PATH:/data/tools/pear-0.9.11-linux-x86_64/bin\\n\\npear -f SRR6974129_1.fastq -r SRR6974129_2.fastq -o SRR6974129__merged.fq\\n'' returned non-zero exit status 134."
     ]
    }
   ],
   "source": [
    "%%bash\n",
    "\n",
    "cd /data/eszter/exosome/reads\n",
    "\n",
    "export PATH=$PATH:/data/tools/pear-0.9.11-linux-x86_64/bin\n",
    "\n",
    "pear -f SRR6974129_1.fastq -r SRR6974129_2.fastq -o SRR6974129__merged.fq"
   ]
  },
  {
   "cell_type": "code",
   "execution_count": 47,
   "metadata": {},
   "outputs": [
    {
     "name": "stderr",
     "output_type": "stream",
     "text": [
      "INFO\tVER\tpandaseq 2.11 <andre@masella.name>\n",
      "INFO\tUNAME\tLinux 4.15.0-29-generic #31-Ubuntu SMP Tue Jul 17 15:39:52 UTC 2018 x86_64\n",
      "ARG[0]\t/data/tools/pandaseq/.libs/pandaseq\n",
      "ARG[1]\t-F\n",
      "ARG[2]\t-f\n",
      "ARG[3]\tSRR6974129_1.fastq\n",
      "ARG[4]\t-r\n",
      "ARG[5]\tSRR6974129_2.fastq\n",
      "ARG[6]\t-d\n",
      "ARG[7]\trbfkms\n",
      "ARG[8]\t-u\n",
      "ARG[9]\tSRR6974129_pandaseq_merged.fastq\n",
      "STAT\tTHREADS\t40\n",
      "0x55ce27d3b2d0:0\tSTAT\tTIME\tSat Nov 24 13:39:39 2018\n",
      "0x55ce27d3b2d0:0\tSTAT\tELAPSED\t0\n",
      "0x55ce27d3b2d0:0\tSTAT\tREADS\t0\n",
      "0x55ce27d3b2d0:0\tSTAT\tNOALGN\t0\n",
      "0x55ce27d3b2d0:0\tSTAT\tLOWQ\t0\n",
      "0x55ce27d3b2d0:0\tSTAT\tBADR\t0\n",
      "0x55ce27d3b2d0:0\tSTAT\tSLOW\t0\n",
      "0x55ce27d3b2d0:0\tSTAT\tOK\t0\n",
      "0x55ce27d3b2d0:0\tSTAT\tOVERLAPS\t0\n",
      "0x55ce27d3b2d0:39\tSTAT\tTIME\tSat Nov 24 13:39:39 2018\n",
      "0x55ce27d3b2d0:39\tSTAT\tELAPSED\t0\n",
      "0x55ce27d3b2d0:39\tSTAT\tREADS\t0\n",
      "0x55ce27d3b2d0:39\tSTAT\tNOALGN\t0\n",
      "0x55ce27d3b2d0:39\tSTAT\tLOWQ\t0\n",
      "0x55ce27d3b2d0:39\tSTAT\tBADR\t0\n",
      "0x55ce27d3b2d0:39\tSTAT\tSLOW\t0\n",
      "0x55ce27d3b2d0:39\tSTAT\tOK\t0\n",
      "0x55ce27d3b2d0:39\tSTAT\tOVERLAPS\t0\n",
      "0x55ce27d3b2d0:38\tSTAT\tTIME\tSat Nov 24 13:39:39 2018\n",
      "0x55ce27d3b2d0:38\tSTAT\tELAPSED\t0\n",
      "0x55ce27d3b2d0:38\tSTAT\tREADS\t0\n",
      "0x55ce27d3b2d0:38\tSTAT\tNOALGN\t0\n",
      "0x55ce27d3b2d0:38\tSTAT\tLOWQ\t0\n",
      "0x55ce27d3b2d0:38\tSTAT\tBADR\t0\n",
      "0x55ce27d3b2d0:38\tSTAT\tSLOW\t0\n",
      "0x55ce27d3b2d0:38\tSTAT\tOK\t0\n",
      "0x55ce27d3b2d0:38\tSTAT\tOVERLAPS\t0\n",
      "0x55ce27d3b2d0:37\tSTAT\tTIME\tSat Nov 24 13:39:39 2018\n",
      "0x55ce27d3b2d0:37\tSTAT\tELAPSED\t0\n",
      "0x55ce27d3b2d0:37\tSTAT\tREADS\t0\n",
      "0x55ce27d3b2d0:37\tSTAT\tNOALGN\t0\n",
      "0x55ce27d3b2d0:37\tSTAT\tLOWQ\t0\n",
      "0x55ce27d3b2d0:37\tSTAT\tBADR\t0\n",
      "0x55ce27d3b2d0:37\tSTAT\tSLOW\t0\n",
      "0x55ce27d3b2d0:37\tSTAT\tOK\t0\n",
      "0x55ce27d3b2d0:37\tSTAT\tOVERLAPS\t0\n",
      "0x55ce27d3b2d0:36\tSTAT\tTIME\tSat Nov 24 13:39:39 2018\n",
      "0x55ce27d3b2d0:36\tSTAT\tELAPSED\t0\n",
      "0x55ce27d3b2d0:36\tSTAT\tREADS\t0\n",
      "0x55ce27d3b2d0:36\tSTAT\tNOALGN\t0\n",
      "0x55ce27d3b2d0:36\tSTAT\tLOWQ\t0\n",
      "0x55ce27d3b2d0:36\tSTAT\tBADR\t0\n",
      "0x55ce27d3b2d0:36\tSTAT\tSLOW\t0\n",
      "0x55ce27d3b2d0:36\tSTAT\tOK\t0\n",
      "0x55ce27d3b2d0:36\tSTAT\tOVERLAPS\t0\n",
      "0x55ce27d3b2d0:35\tSTAT\tTIME\tSat Nov 24 13:39:39 2018\n",
      "0x55ce27d3b2d0:35\tSTAT\tELAPSED\t0\n",
      "0x55ce27d3b2d0:35\tSTAT\tREADS\t0\n",
      "0x55ce27d3b2d0:35\tSTAT\tNOALGN\t0\n",
      "0x55ce27d3b2d0:35\tSTAT\tLOWQ\t0\n",
      "0x55ce27d3b2d0:35\tSTAT\tBADR\t0\n",
      "0x55ce27d3b2d0:35\tSTAT\tSLOW\t0\n",
      "0x55ce27d3b2d0:35\tSTAT\tOK\t0\n",
      "0x55ce27d3b2d0:35\tSTAT\tOVERLAPS\t0\n",
      "0x55ce27d3b2d0:34\tSTAT\tTIME\tSat Nov 24 13:39:39 2018\n",
      "0x55ce27d3b2d0:34\tSTAT\tELAPSED\t0\n",
      "0x55ce27d3b2d0:34\tSTAT\tREADS\t0\n",
      "0x55ce27d3b2d0:34\tSTAT\tNOALGN\t0\n",
      "0x55ce27d3b2d0:34\tSTAT\tLOWQ\t0\n",
      "0x55ce27d3b2d0:34\tSTAT\tBADR\t0\n",
      "0x55ce27d3b2d0:34\tSTAT\tSLOW\t0\n",
      "0x55ce27d3b2d0:34\tSTAT\tOK\t0\n",
      "0x55ce27d3b2d0:34\tSTAT\tOVERLAPS\t0\n",
      "0x55ce27d3b2d0:33\tSTAT\tTIME\tSat Nov 24 13:39:39 2018\n",
      "0x55ce27d3b2d0:33\tSTAT\tELAPSED\t0\n",
      "0x55ce27d3b2d0:33\tSTAT\tREADS\t0\n",
      "0x55ce27d3b2d0:33\tSTAT\tNOALGN\t0\n",
      "0x55ce27d3b2d0:33\tSTAT\tLOWQ\t0\n",
      "0x55ce27d3b2d0:33\tSTAT\tBADR\t0\n",
      "0x55ce27d3b2d0:33\tSTAT\tSLOW\t0\n",
      "0x55ce27d3b2d0:33\tSTAT\tOK\t0\n",
      "0x55ce27d3b2d0:33\tSTAT\tOVERLAPS\t0\n",
      "0x55ce27d3b2d0:32\tSTAT\tTIME\tSat Nov 24 13:39:39 2018\n",
      "0x55ce27d3b2d0:32\tSTAT\tELAPSED\t0\n",
      "0x55ce27d3b2d0:32\tSTAT\tREADS\t0\n",
      "0x55ce27d3b2d0:32\tSTAT\tNOALGN\t0\n",
      "0x55ce27d3b2d0:32\tSTAT\tLOWQ\t0\n",
      "0x55ce27d3b2d0:32\tSTAT\tBADR\t0\n",
      "0x55ce27d3b2d0:32\tSTAT\tSLOW\t0\n",
      "0x55ce27d3b2d0:32\tSTAT\tOK\t0\n",
      "0x55ce27d3b2d0:32\tSTAT\tOVERLAPS\t0\n",
      "0x55ce27d3b2d0:31\tSTAT\tTIME\tSat Nov 24 13:39:39 2018\n",
      "0x55ce27d3b2d0:31\tSTAT\tELAPSED\t0\n",
      "0x55ce27d3b2d0:31\tSTAT\tREADS\t0\n",
      "0x55ce27d3b2d0:31\tSTAT\tNOALGN\t0\n",
      "0x55ce27d3b2d0:31\tSTAT\tLOWQ\t0\n",
      "0x55ce27d3b2d0:31\tSTAT\tBADR\t0\n",
      "0x55ce27d3b2d0:31\tSTAT\tSLOW\t0\n",
      "0x55ce27d3b2d0:31\tSTAT\tOK\t0\n",
      "0x55ce27d3b2d0:31\tSTAT\tOVERLAPS\t0\n",
      "0x55ce27d3b2d0:30\tSTAT\tTIME\tSat Nov 24 13:39:39 2018\n",
      "0x55ce27d3b2d0:30\tSTAT\tELAPSED\t0\n",
      "0x55ce27d3b2d0:30\tSTAT\tREADS\t0\n",
      "0x55ce27d3b2d0:30\tSTAT\tNOALGN\t0\n",
      "0x55ce27d3b2d0:30\tSTAT\tLOWQ\t0\n",
      "0x55ce27d3b2d0:30\tSTAT\tBADR\t0\n",
      "0x55ce27d3b2d0:30\tSTAT\tSLOW\t0\n",
      "0x55ce27d3b2d0:30\tSTAT\tOK\t0\n",
      "0x55ce27d3b2d0:30\tSTAT\tOVERLAPS\t0\n",
      "0x55ce27d3b2d0:29\tSTAT\tTIME\tSat Nov 24 13:39:39 2018\n",
      "0x55ce27d3b2d0:29\tSTAT\tELAPSED\t0\n",
      "0x55ce27d3b2d0:29\tSTAT\tREADS\t0\n",
      "0x55ce27d3b2d0:29\tSTAT\tNOALGN\t0\n",
      "0x55ce27d3b2d0:29\tSTAT\tLOWQ\t0\n",
      "0x55ce27d3b2d0:29\tSTAT\tBADR\t0\n",
      "0x55ce27d3b2d0:29\tSTAT\tSLOW\t0\n",
      "0x55ce27d3b2d0:29\tSTAT\tOK\t0\n",
      "0x55ce27d3b2d0:29\tSTAT\tOVERLAPS\t0\n",
      "0x55ce27d3b2d0:28\tSTAT\tTIME\tSat Nov 24 13:39:39 2018\n",
      "0x55ce27d3b2d0:28\tSTAT\tELAPSED\t0\n",
      "0x55ce27d3b2d0:28\tSTAT\tREADS\t0\n",
      "0x55ce27d3b2d0:28\tSTAT\tNOALGN\t0\n",
      "0x55ce27d3b2d0:28\tSTAT\tLOWQ\t0\n",
      "0x55ce27d3b2d0:28\tSTAT\tBADR\t0\n",
      "0x55ce27d3b2d0:28\tSTAT\tSLOW\t0\n",
      "0x55ce27d3b2d0:28\tSTAT\tOK\t0\n",
      "0x55ce27d3b2d0:28\tSTAT\tOVERLAPS\t0\n",
      "0x55ce27d3b2d0:27\tSTAT\tTIME\tSat Nov 24 13:39:39 2018\n",
      "0x55ce27d3b2d0:27\tSTAT\tELAPSED\t0\n",
      "0x55ce27d3b2d0:27\tSTAT\tREADS\t0\n",
      "0x55ce27d3b2d0:27\tSTAT\tNOALGN\t0\n",
      "0x55ce27d3b2d0:27\tSTAT\tLOWQ\t0\n",
      "0x55ce27d3b2d0:27\tSTAT\tBADR\t0\n",
      "0x55ce27d3b2d0:27\tSTAT\tSLOW\t0\n",
      "0x55ce27d3b2d0:27\tSTAT\tOK\t0\n",
      "0x55ce27d3b2d0:27\tSTAT\tOVERLAPS\t0\n",
      "0x55ce27d3b2d0:26\tSTAT\tTIME\tSat Nov 24 13:39:39 2018\n",
      "0x55ce27d3b2d0:26\tSTAT\tELAPSED\t0\n",
      "0x55ce27d3b2d0:26\tSTAT\tREADS\t0\n",
      "0x55ce27d3b2d0:26\tSTAT\tNOALGN\t0\n",
      "0x55ce27d3b2d0:26\tSTAT\tLOWQ\t0\n",
      "0x55ce27d3b2d0:26\tSTAT\tBADR\t0\n",
      "0x55ce27d3b2d0:26\tSTAT\tSLOW\t0\n",
      "0x55ce27d3b2d0:26\tSTAT\tOK\t0\n",
      "0x55ce27d3b2d0:26\tSTAT\tOVERLAPS\t0\n",
      "0x55ce27d3b2d0:25\tSTAT\tTIME\tSat Nov 24 13:39:39 2018\n",
      "0x55ce27d3b2d0:25\tSTAT\tELAPSED\t0\n",
      "0x55ce27d3b2d0:25\tSTAT\tREADS\t0\n",
      "0x55ce27d3b2d0:25\tSTAT\tNOALGN\t0\n",
      "0x55ce27d3b2d0:25\tSTAT\tLOWQ\t0\n",
      "0x55ce27d3b2d0:25\tSTAT\tBADR\t0\n",
      "0x55ce27d3b2d0:25\tSTAT\tSLOW\t0\n",
      "0x55ce27d3b2d0:25\tSTAT\tOK\t0\n",
      "0x55ce27d3b2d0:25\tSTAT\tOVERLAPS\t0\n",
      "0x55ce27d3b2d0:24\tSTAT\tTIME\tSat Nov 24 13:39:39 2018\n",
      "0x55ce27d3b2d0:24\tSTAT\tELAPSED\t0\n",
      "0x55ce27d3b2d0:24\tSTAT\tREADS\t0\n",
      "0x55ce27d3b2d0:24\tSTAT\tNOALGN\t0\n",
      "0x55ce27d3b2d0:24\tSTAT\tLOWQ\t0\n",
      "0x55ce27d3b2d0:24\tSTAT\tBADR\t0\n",
      "0x55ce27d3b2d0:24\tSTAT\tSLOW\t0\n",
      "0x55ce27d3b2d0:24\tSTAT\tOK\t0\n",
      "0x55ce27d3b2d0:24\tSTAT\tOVERLAPS\t0\n",
      "0x55ce27d3b2d0:23\tSTAT\tTIME\tSat Nov 24 13:39:39 2018\n",
      "0x55ce27d3b2d0:23\tSTAT\tELAPSED\t0\n",
      "0x55ce27d3b2d0:23\tSTAT\tREADS\t0\n",
      "0x55ce27d3b2d0:23\tSTAT\tNOALGN\t0\n",
      "0x55ce27d3b2d0:23\tSTAT\tLOWQ\t0\n",
      "0x55ce27d3b2d0:23\tSTAT\tBADR\t0\n",
      "0x55ce27d3b2d0:23\tSTAT\tSLOW\t0\n",
      "0x55ce27d3b2d0:23\tSTAT\tOK\t0\n",
      "0x55ce27d3b2d0:23\tSTAT\tOVERLAPS\t0\n",
      "0x55ce27d3b2d0:22\tSTAT\tTIME\tSat Nov 24 13:39:39 2018\n",
      "0x55ce27d3b2d0:22\tSTAT\tELAPSED\t0\n",
      "0x55ce27d3b2d0:22\tSTAT\tREADS\t0\n",
      "0x55ce27d3b2d0:22\tSTAT\tNOALGN\t0\n",
      "0x55ce27d3b2d0:22\tSTAT\tLOWQ\t0\n",
      "0x55ce27d3b2d0:22\tSTAT\tBADR\t0\n",
      "0x55ce27d3b2d0:22\tSTAT\tSLOW\t0\n",
      "0x55ce27d3b2d0:22\tSTAT\tOK\t0\n",
      "0x55ce27d3b2d0:22\tSTAT\tOVERLAPS\t0\n",
      "0x55ce27d3b2d0:21\tSTAT\tTIME\tSat Nov 24 13:39:39 2018\n",
      "0x55ce27d3b2d0:21\tSTAT\tELAPSED\t0\n",
      "0x55ce27d3b2d0:21\tSTAT\tREADS\t0\n",
      "0x55ce27d3b2d0:21\tSTAT\tNOALGN\t0\n",
      "0x55ce27d3b2d0:21\tSTAT\tLOWQ\t0\n",
      "0x55ce27d3b2d0:21\tSTAT\tBADR\t0\n",
      "0x55ce27d3b2d0:21\tSTAT\tSLOW\t0\n",
      "0x55ce27d3b2d0:21\tSTAT\tOK\t0\n",
      "0x55ce27d3b2d0:21\tSTAT\tOVERLAPS\t0\n",
      "0x55ce27d3b2d0:20\tSTAT\tTIME\tSat Nov 24 13:39:39 2018\n",
      "0x55ce27d3b2d0:20\tSTAT\tELAPSED\t0\n",
      "0x55ce27d3b2d0:20\tSTAT\tREADS\t0\n",
      "0x55ce27d3b2d0:20\tSTAT\tNOALGN\t0\n",
      "0x55ce27d3b2d0:20\tSTAT\tLOWQ\t0\n",
      "0x55ce27d3b2d0:20\tSTAT\tBADR\t0\n",
      "0x55ce27d3b2d0:20\tSTAT\tSLOW\t0\n",
      "0x55ce27d3b2d0:20\tSTAT\tOK\t0\n",
      "0x55ce27d3b2d0:20\tSTAT\tOVERLAPS\t0\n",
      "0x55ce27d3b2d0:19\tSTAT\tTIME\tSat Nov 24 13:39:39 2018\n",
      "0x55ce27d3b2d0:19\tSTAT\tELAPSED\t0\n",
      "0x55ce27d3b2d0:19\tSTAT\tREADS\t0\n",
      "0x55ce27d3b2d0:19\tSTAT\tNOALGN\t0\n",
      "0x55ce27d3b2d0:19\tSTAT\tLOWQ\t0\n",
      "0x55ce27d3b2d0:19\tSTAT\tBADR\t0\n",
      "0x55ce27d3b2d0:19\tSTAT\tSLOW\t0\n",
      "0x55ce27d3b2d0:19\tSTAT\tOK\t0\n",
      "0x55ce27d3b2d0:19\tSTAT\tOVERLAPS\t0\n",
      "0x55ce27d3b2d0:18\tSTAT\tTIME\tSat Nov 24 13:39:39 2018\n",
      "0x55ce27d3b2d0:18\tSTAT\tELAPSED\t0\n",
      "0x55ce27d3b2d0:18\tSTAT\tREADS\t0\n",
      "0x55ce27d3b2d0:18\tSTAT\tNOALGN\t0\n",
      "0x55ce27d3b2d0:18\tSTAT\tLOWQ\t0\n",
      "0x55ce27d3b2d0:18\tSTAT\tBADR\t0\n",
      "0x55ce27d3b2d0:18\tSTAT\tSLOW\t0\n",
      "0x55ce27d3b2d0:18\tSTAT\tOK\t0\n",
      "0x55ce27d3b2d0:18\tSTAT\tOVERLAPS\t0\n",
      "0x55ce27d3b2d0:17\tSTAT\tTIME\tSat Nov 24 13:39:39 2018\n",
      "0x55ce27d3b2d0:17\tSTAT\tELAPSED\t0\n",
      "0x55ce27d3b2d0:17\tSTAT\tREADS\t0\n",
      "0x55ce27d3b2d0:17\tSTAT\tNOALGN\t0\n",
      "0x55ce27d3b2d0:17\tSTAT\tLOWQ\t0\n",
      "0x55ce27d3b2d0:17\tSTAT\tBADR\t0\n",
      "0x55ce27d3b2d0:17\tSTAT\tSLOW\t0\n",
      "0x55ce27d3b2d0:17\tSTAT\tOK\t0\n",
      "0x55ce27d3b2d0:17\tSTAT\tOVERLAPS\t0\n",
      "0x55ce27d3b2d0:16\tSTAT\tTIME\tSat Nov 24 13:39:39 2018\n",
      "0x55ce27d3b2d0:16\tSTAT\tELAPSED\t0\n",
      "0x55ce27d3b2d0:16\tSTAT\tREADS\t0\n",
      "0x55ce27d3b2d0:16\tSTAT\tNOALGN\t0\n",
      "0x55ce27d3b2d0:16\tSTAT\tLOWQ\t0\n",
      "0x55ce27d3b2d0:16\tSTAT\tBADR\t0\n",
      "0x55ce27d3b2d0:16\tSTAT\tSLOW\t0\n",
      "0x55ce27d3b2d0:16\tSTAT\tOK\t0\n",
      "0x55ce27d3b2d0:16\tSTAT\tOVERLAPS\t0\n",
      "0x55ce27d3b2d0:15\tSTAT\tTIME\tSat Nov 24 13:39:39 2018\n",
      "0x55ce27d3b2d0:15\tSTAT\tELAPSED\t0\n",
      "0x55ce27d3b2d0:15\tSTAT\tREADS\t0\n",
      "0x55ce27d3b2d0:15\tSTAT\tNOALGN\t0\n",
      "0x55ce27d3b2d0:15\tSTAT\tLOWQ\t0\n",
      "0x55ce27d3b2d0:15\tSTAT\tBADR\t0\n",
      "0x55ce27d3b2d0:15\tSTAT\tSLOW\t0\n",
      "0x55ce27d3b2d0:15\tSTAT\tOK\t0\n",
      "0x55ce27d3b2d0:15\tSTAT\tOVERLAPS\t0\n",
      "0x55ce27d3b2d0:14\tSTAT\tTIME\tSat Nov 24 13:39:39 2018\n",
      "0x55ce27d3b2d0:14\tSTAT\tELAPSED\t0\n",
      "0x55ce27d3b2d0:14\tSTAT\tREADS\t0\n",
      "0x55ce27d3b2d0:14\tSTAT\tNOALGN\t0\n",
      "0x55ce27d3b2d0:14\tSTAT\tLOWQ\t0\n",
      "0x55ce27d3b2d0:14\tSTAT\tBADR\t0\n",
      "0x55ce27d3b2d0:14\tSTAT\tSLOW\t0\n",
      "0x55ce27d3b2d0:14\tSTAT\tOK\t0\n",
      "0x55ce27d3b2d0:14\tSTAT\tOVERLAPS\t0\n",
      "0x55ce27d3b2d0:13\tSTAT\tTIME\tSat Nov 24 13:39:39 2018\n",
      "0x55ce27d3b2d0:13\tSTAT\tELAPSED\t0\n",
      "0x55ce27d3b2d0:13\tSTAT\tREADS\t0\n",
      "0x55ce27d3b2d0:13\tSTAT\tNOALGN\t0\n",
      "0x55ce27d3b2d0:13\tSTAT\tLOWQ\t0\n",
      "0x55ce27d3b2d0:13\tSTAT\tBADR\t0\n",
      "0x55ce27d3b2d0:13\tSTAT\tSLOW\t0\n",
      "0x55ce27d3b2d0:13\tSTAT\tOK\t0\n",
      "0x55ce27d3b2d0:13\tSTAT\tOVERLAPS\t0\n",
      "0x55ce27d3b2d0:12\tSTAT\tTIME\tSat Nov 24 13:39:39 2018\n",
      "0x55ce27d3b2d0:12\tSTAT\tELAPSED\t0\n",
      "0x55ce27d3b2d0:12\tSTAT\tREADS\t0\n",
      "0x55ce27d3b2d0:12\tSTAT\tNOALGN\t0\n",
      "0x55ce27d3b2d0:12\tSTAT\tLOWQ\t0\n",
      "0x55ce27d3b2d0:12\tSTAT\tBADR\t0\n",
      "0x55ce27d3b2d0:12\tSTAT\tSLOW\t0\n",
      "0x55ce27d3b2d0:12\tSTAT\tOK\t0\n",
      "0x55ce27d3b2d0:12\tSTAT\tOVERLAPS\t0\n",
      "0x55ce27d3b2d0:11\tSTAT\tTIME\tSat Nov 24 13:39:39 2018\n",
      "0x55ce27d3b2d0:11\tSTAT\tELAPSED\t0\n",
      "0x55ce27d3b2d0:11\tSTAT\tREADS\t0\n",
      "0x55ce27d3b2d0:11\tSTAT\tNOALGN\t0\n",
      "0x55ce27d3b2d0:11\tSTAT\tLOWQ\t0\n",
      "0x55ce27d3b2d0:11\tSTAT\tBADR\t0\n",
      "0x55ce27d3b2d0:11\tSTAT\tSLOW\t0\n",
      "0x55ce27d3b2d0:11\tSTAT\tOK\t0\n",
      "0x55ce27d3b2d0:11\tSTAT\tOVERLAPS\t0\n",
      "0x55ce27d3b2d0:10\tSTAT\tTIME\tSat Nov 24 13:39:39 2018\n",
      "0x55ce27d3b2d0:10\tSTAT\tELAPSED\t0\n",
      "0x55ce27d3b2d0:10\tSTAT\tREADS\t0\n",
      "0x55ce27d3b2d0:10\tSTAT\tNOALGN\t0\n",
      "0x55ce27d3b2d0:10\tSTAT\tLOWQ\t0\n",
      "0x55ce27d3b2d0:10\tSTAT\tBADR\t0\n",
      "0x55ce27d3b2d0:10\tSTAT\tSLOW\t0\n",
      "0x55ce27d3b2d0:10\tSTAT\tOK\t0\n",
      "0x55ce27d3b2d0:10\tSTAT\tOVERLAPS\t0\n",
      "0x55ce27d3b2d0:9\tSTAT\tTIME\tSat Nov 24 13:39:39 2018\n",
      "0x55ce27d3b2d0:9\tSTAT\tELAPSED\t0\n",
      "0x55ce27d3b2d0:9\tSTAT\tREADS\t0\n",
      "0x55ce27d3b2d0:9\tSTAT\tNOALGN\t0\n",
      "0x55ce27d3b2d0:9\tSTAT\tLOWQ\t0\n",
      "0x55ce27d3b2d0:9\tSTAT\tBADR\t0\n",
      "0x55ce27d3b2d0:9\tSTAT\tSLOW\t0\n",
      "0x55ce27d3b2d0:9\tSTAT\tOK\t0\n",
      "0x55ce27d3b2d0:9\tSTAT\tOVERLAPS\t0\n",
      "0x55ce27d3b2d0:8\tSTAT\tTIME\tSat Nov 24 13:39:39 2018\n",
      "0x55ce27d3b2d0:8\tSTAT\tELAPSED\t0\n",
      "0x55ce27d3b2d0:8\tSTAT\tREADS\t0\n",
      "0x55ce27d3b2d0:8\tSTAT\tNOALGN\t0\n",
      "0x55ce27d3b2d0:8\tSTAT\tLOWQ\t0\n",
      "0x55ce27d3b2d0:8\tSTAT\tBADR\t0\n",
      "0x55ce27d3b2d0:8\tSTAT\tSLOW\t0\n",
      "0x55ce27d3b2d0:8\tSTAT\tOK\t0\n",
      "0x55ce27d3b2d0:8\tSTAT\tOVERLAPS\t0\n",
      "0x55ce27d3b2d0:7\tSTAT\tTIME\tSat Nov 24 13:39:39 2018\n",
      "0x55ce27d3b2d0:7\tSTAT\tELAPSED\t0\n",
      "0x55ce27d3b2d0:7\tSTAT\tREADS\t0\n",
      "0x55ce27d3b2d0:7\tSTAT\tNOALGN\t0\n",
      "0x55ce27d3b2d0:7\tSTAT\tLOWQ\t0\n",
      "0x55ce27d3b2d0:7\tSTAT\tBADR\t0\n",
      "0x55ce27d3b2d0:7\tSTAT\tSLOW\t0\n",
      "0x55ce27d3b2d0:7\tSTAT\tOK\t0\n",
      "0x55ce27d3b2d0:7\tSTAT\tOVERLAPS\t0\n",
      "0x55ce27d3b2d0:6\tSTAT\tTIME\tSat Nov 24 13:39:39 2018\n",
      "0x55ce27d3b2d0:6\tSTAT\tELAPSED\t0\n",
      "0x55ce27d3b2d0:6\tSTAT\tREADS\t0\n",
      "0x55ce27d3b2d0:6\tSTAT\tNOALGN\t0\n",
      "0x55ce27d3b2d0:6\tSTAT\tLOWQ\t0\n",
      "0x55ce27d3b2d0:6\tSTAT\tBADR\t0\n",
      "0x55ce27d3b2d0:6\tSTAT\tSLOW\t0\n",
      "0x55ce27d3b2d0:6\tSTAT\tOK\t0\n",
      "0x55ce27d3b2d0:6\tSTAT\tOVERLAPS\t0\n",
      "0x55ce27d3b2d0:5\tSTAT\tTIME\tSat Nov 24 13:39:39 2018\n",
      "0x55ce27d3b2d0:5\tSTAT\tELAPSED\t0\n",
      "0x55ce27d3b2d0:5\tSTAT\tREADS\t0\n",
      "0x55ce27d3b2d0:5\tSTAT\tNOALGN\t0\n",
      "0x55ce27d3b2d0:5\tSTAT\tLOWQ\t0\n",
      "0x55ce27d3b2d0:5\tSTAT\tBADR\t0\n",
      "0x55ce27d3b2d0:5\tSTAT\tSLOW\t0\n",
      "0x55ce27d3b2d0:5\tSTAT\tOK\t0\n",
      "0x55ce27d3b2d0:5\tSTAT\tOVERLAPS\t0\n",
      "0x55ce27d3b2d0:4\tSTAT\tTIME\tSat Nov 24 13:39:39 2018\n",
      "0x55ce27d3b2d0:4\tSTAT\tELAPSED\t0\n",
      "0x55ce27d3b2d0:4\tSTAT\tREADS\t0\n",
      "0x55ce27d3b2d0:4\tSTAT\tNOALGN\t0\n",
      "0x55ce27d3b2d0:4\tSTAT\tLOWQ\t0\n",
      "0x55ce27d3b2d0:4\tSTAT\tBADR\t0\n",
      "0x55ce27d3b2d0:4\tSTAT\tSLOW\t0\n",
      "0x55ce27d3b2d0:4\tSTAT\tOK\t0\n",
      "0x55ce27d3b2d0:4\tSTAT\tOVERLAPS\t0\n",
      "0x55ce27d3b2d0:3\tSTAT\tTIME\tSat Nov 24 13:39:39 2018\n",
      "0x55ce27d3b2d0:3\tSTAT\tELAPSED\t0\n",
      "0x55ce27d3b2d0:3\tSTAT\tREADS\t0\n",
      "0x55ce27d3b2d0:3\tSTAT\tNOALGN\t0\n",
      "0x55ce27d3b2d0:3\tSTAT\tLOWQ\t0\n",
      "0x55ce27d3b2d0:3\tSTAT\tBADR\t0\n",
      "0x55ce27d3b2d0:3\tSTAT\tSLOW\t0\n",
      "0x55ce27d3b2d0:3\tSTAT\tOK\t0\n",
      "0x55ce27d3b2d0:3\tSTAT\tOVERLAPS\t0\n",
      "0x55ce27d3b2d0:2\tSTAT\tTIME\tSat Nov 24 13:39:39 2018\n",
      "0x55ce27d3b2d0:2\tSTAT\tELAPSED\t0\n",
      "0x55ce27d3b2d0:2\tSTAT\tREADS\t0\n",
      "0x55ce27d3b2d0:2\tSTAT\tNOALGN\t0\n",
      "0x55ce27d3b2d0:2\tSTAT\tLOWQ\t0\n",
      "0x55ce27d3b2d0:2\tSTAT\tBADR\t0\n",
      "0x55ce27d3b2d0:2\tSTAT\tSLOW\t0\n",
      "0x55ce27d3b2d0:2\tSTAT\tOK\t0\n",
      "0x55ce27d3b2d0:2\tSTAT\tOVERLAPS\t0\n",
      "0x55ce27d3b2d0:1\tSTAT\tTIME\tSat Nov 24 13:39:39 2018\n",
      "0x55ce27d3b2d0:1\tSTAT\tELAPSED\t0\n",
      "0x55ce27d3b2d0:1\tSTAT\tREADS\t0\n",
      "0x55ce27d3b2d0:1\tSTAT\tNOALGN\t0\n",
      "0x55ce27d3b2d0:1\tSTAT\tLOWQ\t0\n",
      "0x55ce27d3b2d0:1\tSTAT\tBADR\t0\n",
      "0x55ce27d3b2d0:1\tSTAT\tSLOW\t0\n",
      "0x55ce27d3b2d0:1\tSTAT\tOK\t0\n",
      "0x55ce27d3b2d0:1\tSTAT\tOVERLAPS\t0\n"
     ]
    },
    {
     "ename": "CalledProcessError",
     "evalue": "Command 'b'\\ncd /data/eszter/exosome/reads\\n\\nexport PATH=$PATH:/data/tools/pandaseq/\\n\\npandaseq -F -f SRR6974129_1.fastq -r SRR6974129_2.fastq -d rbfkms -u SRR6974129_pandaseq_merged.fastq\\n'' returned non-zero exit status 1.",
     "output_type": "error",
     "traceback": [
      "\u001b[0;31m---------------------------------------------------------------------------\u001b[0m",
      "\u001b[0;31mCalledProcessError\u001b[0m                        Traceback (most recent call last)",
      "\u001b[0;32m<ipython-input-47-43171ce3799b>\u001b[0m in \u001b[0;36m<module>\u001b[0;34m\u001b[0m\n\u001b[0;32m----> 1\u001b[0;31m \u001b[0mget_ipython\u001b[0m\u001b[0;34m(\u001b[0m\u001b[0;34m)\u001b[0m\u001b[0;34m.\u001b[0m\u001b[0mrun_cell_magic\u001b[0m\u001b[0;34m(\u001b[0m\u001b[0;34m'bash'\u001b[0m\u001b[0;34m,\u001b[0m \u001b[0;34m''\u001b[0m\u001b[0;34m,\u001b[0m \u001b[0;34m'\\ncd /data/eszter/exosome/reads\\n\\nexport PATH=$PATH:/data/tools/pandaseq/\\n\\npandaseq -F -f SRR6974129_1.fastq -r SRR6974129_2.fastq -d rbfkms -u SRR6974129_pandaseq_merged.fastq\\n'\u001b[0m\u001b[0;34m)\u001b[0m\u001b[0;34m\u001b[0m\u001b[0m\n\u001b[0m",
      "\u001b[0;32m/usr/local/lib/python3.6/dist-packages/IPython/core/interactiveshell.py\u001b[0m in \u001b[0;36mrun_cell_magic\u001b[0;34m(self, magic_name, line, cell)\u001b[0m\n\u001b[1;32m   2319\u001b[0m             \u001b[0mmagic_arg_s\u001b[0m \u001b[0;34m=\u001b[0m \u001b[0mself\u001b[0m\u001b[0;34m.\u001b[0m\u001b[0mvar_expand\u001b[0m\u001b[0;34m(\u001b[0m\u001b[0mline\u001b[0m\u001b[0;34m,\u001b[0m \u001b[0mstack_depth\u001b[0m\u001b[0;34m)\u001b[0m\u001b[0;34m\u001b[0m\u001b[0m\n\u001b[1;32m   2320\u001b[0m             \u001b[0;32mwith\u001b[0m \u001b[0mself\u001b[0m\u001b[0;34m.\u001b[0m\u001b[0mbuiltin_trap\u001b[0m\u001b[0;34m:\u001b[0m\u001b[0;34m\u001b[0m\u001b[0m\n\u001b[0;32m-> 2321\u001b[0;31m                 \u001b[0mresult\u001b[0m \u001b[0;34m=\u001b[0m \u001b[0mfn\u001b[0m\u001b[0;34m(\u001b[0m\u001b[0mmagic_arg_s\u001b[0m\u001b[0;34m,\u001b[0m \u001b[0mcell\u001b[0m\u001b[0;34m)\u001b[0m\u001b[0;34m\u001b[0m\u001b[0m\n\u001b[0m\u001b[1;32m   2322\u001b[0m             \u001b[0;32mreturn\u001b[0m \u001b[0mresult\u001b[0m\u001b[0;34m\u001b[0m\u001b[0m\n\u001b[1;32m   2323\u001b[0m \u001b[0;34m\u001b[0m\u001b[0m\n",
      "\u001b[0;32m/usr/local/lib/python3.6/dist-packages/IPython/core/magics/script.py\u001b[0m in \u001b[0;36mnamed_script_magic\u001b[0;34m(line, cell)\u001b[0m\n\u001b[1;32m    140\u001b[0m             \u001b[0;32melse\u001b[0m\u001b[0;34m:\u001b[0m\u001b[0;34m\u001b[0m\u001b[0m\n\u001b[1;32m    141\u001b[0m                 \u001b[0mline\u001b[0m \u001b[0;34m=\u001b[0m \u001b[0mscript\u001b[0m\u001b[0;34m\u001b[0m\u001b[0m\n\u001b[0;32m--> 142\u001b[0;31m             \u001b[0;32mreturn\u001b[0m \u001b[0mself\u001b[0m\u001b[0;34m.\u001b[0m\u001b[0mshebang\u001b[0m\u001b[0;34m(\u001b[0m\u001b[0mline\u001b[0m\u001b[0;34m,\u001b[0m \u001b[0mcell\u001b[0m\u001b[0;34m)\u001b[0m\u001b[0;34m\u001b[0m\u001b[0m\n\u001b[0m\u001b[1;32m    143\u001b[0m \u001b[0;34m\u001b[0m\u001b[0m\n\u001b[1;32m    144\u001b[0m         \u001b[0;31m# write a basic docstring:\u001b[0m\u001b[0;34m\u001b[0m\u001b[0;34m\u001b[0m\u001b[0m\n",
      "\u001b[0;32m<decorator-gen-109>\u001b[0m in \u001b[0;36mshebang\u001b[0;34m(self, line, cell)\u001b[0m\n",
      "\u001b[0;32m/usr/local/lib/python3.6/dist-packages/IPython/core/magic.py\u001b[0m in \u001b[0;36m<lambda>\u001b[0;34m(f, *a, **k)\u001b[0m\n\u001b[1;32m    185\u001b[0m     \u001b[0;31m# but it's overkill for just that one bit of state.\u001b[0m\u001b[0;34m\u001b[0m\u001b[0;34m\u001b[0m\u001b[0m\n\u001b[1;32m    186\u001b[0m     \u001b[0;32mdef\u001b[0m \u001b[0mmagic_deco\u001b[0m\u001b[0;34m(\u001b[0m\u001b[0marg\u001b[0m\u001b[0;34m)\u001b[0m\u001b[0;34m:\u001b[0m\u001b[0;34m\u001b[0m\u001b[0m\n\u001b[0;32m--> 187\u001b[0;31m         \u001b[0mcall\u001b[0m \u001b[0;34m=\u001b[0m \u001b[0;32mlambda\u001b[0m \u001b[0mf\u001b[0m\u001b[0;34m,\u001b[0m \u001b[0;34m*\u001b[0m\u001b[0ma\u001b[0m\u001b[0;34m,\u001b[0m \u001b[0;34m**\u001b[0m\u001b[0mk\u001b[0m\u001b[0;34m:\u001b[0m \u001b[0mf\u001b[0m\u001b[0;34m(\u001b[0m\u001b[0;34m*\u001b[0m\u001b[0ma\u001b[0m\u001b[0;34m,\u001b[0m \u001b[0;34m**\u001b[0m\u001b[0mk\u001b[0m\u001b[0;34m)\u001b[0m\u001b[0;34m\u001b[0m\u001b[0m\n\u001b[0m\u001b[1;32m    188\u001b[0m \u001b[0;34m\u001b[0m\u001b[0m\n\u001b[1;32m    189\u001b[0m         \u001b[0;32mif\u001b[0m \u001b[0mcallable\u001b[0m\u001b[0;34m(\u001b[0m\u001b[0marg\u001b[0m\u001b[0;34m)\u001b[0m\u001b[0;34m:\u001b[0m\u001b[0;34m\u001b[0m\u001b[0m\n",
      "\u001b[0;32m/usr/local/lib/python3.6/dist-packages/IPython/core/magics/script.py\u001b[0m in \u001b[0;36mshebang\u001b[0;34m(self, line, cell)\u001b[0m\n\u001b[1;32m    243\u001b[0m             \u001b[0msys\u001b[0m\u001b[0;34m.\u001b[0m\u001b[0mstderr\u001b[0m\u001b[0;34m.\u001b[0m\u001b[0mflush\u001b[0m\u001b[0;34m(\u001b[0m\u001b[0;34m)\u001b[0m\u001b[0;34m\u001b[0m\u001b[0m\n\u001b[1;32m    244\u001b[0m         \u001b[0;32mif\u001b[0m \u001b[0margs\u001b[0m\u001b[0;34m.\u001b[0m\u001b[0mraise_error\u001b[0m \u001b[0;32mand\u001b[0m \u001b[0mp\u001b[0m\u001b[0;34m.\u001b[0m\u001b[0mreturncode\u001b[0m\u001b[0;34m!=\u001b[0m\u001b[0;36m0\u001b[0m\u001b[0;34m:\u001b[0m\u001b[0;34m\u001b[0m\u001b[0m\n\u001b[0;32m--> 245\u001b[0;31m             \u001b[0;32mraise\u001b[0m \u001b[0mCalledProcessError\u001b[0m\u001b[0;34m(\u001b[0m\u001b[0mp\u001b[0m\u001b[0;34m.\u001b[0m\u001b[0mreturncode\u001b[0m\u001b[0;34m,\u001b[0m \u001b[0mcell\u001b[0m\u001b[0;34m,\u001b[0m \u001b[0moutput\u001b[0m\u001b[0;34m=\u001b[0m\u001b[0mout\u001b[0m\u001b[0;34m,\u001b[0m \u001b[0mstderr\u001b[0m\u001b[0;34m=\u001b[0m\u001b[0merr\u001b[0m\u001b[0;34m)\u001b[0m\u001b[0;34m\u001b[0m\u001b[0m\n\u001b[0m\u001b[1;32m    246\u001b[0m \u001b[0;34m\u001b[0m\u001b[0m\n\u001b[1;32m    247\u001b[0m     \u001b[0;32mdef\u001b[0m \u001b[0m_run_script\u001b[0m\u001b[0;34m(\u001b[0m\u001b[0mself\u001b[0m\u001b[0;34m,\u001b[0m \u001b[0mp\u001b[0m\u001b[0;34m,\u001b[0m \u001b[0mcell\u001b[0m\u001b[0;34m,\u001b[0m \u001b[0mto_close\u001b[0m\u001b[0;34m)\u001b[0m\u001b[0;34m:\u001b[0m\u001b[0;34m\u001b[0m\u001b[0m\n",
      "\u001b[0;31mCalledProcessError\u001b[0m: Command 'b'\\ncd /data/eszter/exosome/reads\\n\\nexport PATH=$PATH:/data/tools/pandaseq/\\n\\npandaseq -F -f SRR6974129_1.fastq -r SRR6974129_2.fastq -d rbfkms -u SRR6974129_pandaseq_merged.fastq\\n'' returned non-zero exit status 1."
     ]
    }
   ],
   "source": [
    "%%bash\n",
    "\n",
    "cd /data/eszter/exosome/reads\n",
    "\n",
    "export PATH=$PATH:/data/tools/pandaseq/\n",
    "\n",
    "pandaseq -F -f SRR6974129_1.fastq -r SRR6974129_2.fastq -d rbfkms -u SRR6974129_pandaseq_merged.fastq\n"
   ]
  },
  {
   "cell_type": "code",
   "execution_count": 6,
   "metadata": {},
   "outputs": [
    {
     "name": "stderr",
     "output_type": "stream",
     "text": [
      "java -ea -Xmx1000m -Xms1000m -cp /data/tools/bbmap/current/ jgi.BBMerge in1=SRR6974129_1.fastq in2=SRR6974129_2.fastq out=SRR6974129__merged_bb.fq\n",
      "Executing jgi.BBMerge [in1=SRR6974129_1.fastq, in2=SRR6974129_2.fastq, out=SRR6974129__merged_bb.fq]\n",
      "Version 38.25\n",
      "\n",
      "Writing mergable reads merged.\n",
      "Started output threads.\n",
      "java.lang.AssertionError: \n",
      "There appear to be different numbers of reads in the paired input files.\n",
      "The pairing may have been corrupted by an upstream process.  It may be fixable by running repair.sh.\n",
      "\tat stream.ConcurrentGenericReadInputStream.pair(ConcurrentGenericReadInputStream.java:497)\n",
      "\tat stream.ConcurrentGenericReadInputStream.readLists(ConcurrentGenericReadInputStream.java:362)\n",
      "\tat stream.ConcurrentGenericReadInputStream.run0(ConcurrentGenericReadInputStream.java:206)\n",
      "\tat stream.ConcurrentGenericReadInputStream.run(ConcurrentGenericReadInputStream.java:182)\n",
      "\tat java.lang.Thread.run(Thread.java:748)\n"
     ]
    },
    {
     "ename": "CalledProcessError",
     "evalue": "Command 'b'\\ncd /data/eszter/exosome/reads\\n\\nexport PATH=$PATH:/data/tools/bbmap\\nexport PATH=$PATH:/data/tools/vsearch/bin\\n\\nbbmerge.sh in1=SRR6974129_1.fastq in2=SRR6974129_2.fastq out=SRR6974129__merged_bb.fq\\n#vsearch --threads 10 --fastq_mergepairs K8_forward.fq --reverse K8_reverse.fq --fastqout K8_merged_vs.fq\\n\\n'' returned non-zero exit status 1.",
     "output_type": "error",
     "traceback": [
      "\u001b[0;31m---------------------------------------------------------------------------\u001b[0m",
      "\u001b[0;31mCalledProcessError\u001b[0m                        Traceback (most recent call last)",
      "\u001b[0;32m<ipython-input-6-5eacd162eb48>\u001b[0m in \u001b[0;36m<module>\u001b[0;34m\u001b[0m\n\u001b[0;32m----> 1\u001b[0;31m \u001b[0mget_ipython\u001b[0m\u001b[0;34m(\u001b[0m\u001b[0;34m)\u001b[0m\u001b[0;34m.\u001b[0m\u001b[0mrun_cell_magic\u001b[0m\u001b[0;34m(\u001b[0m\u001b[0;34m'bash'\u001b[0m\u001b[0;34m,\u001b[0m \u001b[0;34m''\u001b[0m\u001b[0;34m,\u001b[0m \u001b[0;34m'\\ncd /data/eszter/exosome/reads\\n\\nexport PATH=$PATH:/data/tools/bbmap\\nexport PATH=$PATH:/data/tools/vsearch/bin\\n\\nbbmerge.sh in1=SRR6974129_1.fastq in2=SRR6974129_2.fastq out=SRR6974129__merged_bb.fq\\n#vsearch --threads 10 --fastq_mergepairs K8_forward.fq --reverse K8_reverse.fq --fastqout K8_merged_vs.fq\\n\\n'\u001b[0m\u001b[0;34m)\u001b[0m\u001b[0;34m\u001b[0m\u001b[0m\n\u001b[0m",
      "\u001b[0;32m/usr/local/lib/python3.6/dist-packages/IPython/core/interactiveshell.py\u001b[0m in \u001b[0;36mrun_cell_magic\u001b[0;34m(self, magic_name, line, cell)\u001b[0m\n\u001b[1;32m   2319\u001b[0m             \u001b[0mmagic_arg_s\u001b[0m \u001b[0;34m=\u001b[0m \u001b[0mself\u001b[0m\u001b[0;34m.\u001b[0m\u001b[0mvar_expand\u001b[0m\u001b[0;34m(\u001b[0m\u001b[0mline\u001b[0m\u001b[0;34m,\u001b[0m \u001b[0mstack_depth\u001b[0m\u001b[0;34m)\u001b[0m\u001b[0;34m\u001b[0m\u001b[0m\n\u001b[1;32m   2320\u001b[0m             \u001b[0;32mwith\u001b[0m \u001b[0mself\u001b[0m\u001b[0;34m.\u001b[0m\u001b[0mbuiltin_trap\u001b[0m\u001b[0;34m:\u001b[0m\u001b[0;34m\u001b[0m\u001b[0m\n\u001b[0;32m-> 2321\u001b[0;31m                 \u001b[0mresult\u001b[0m \u001b[0;34m=\u001b[0m \u001b[0mfn\u001b[0m\u001b[0;34m(\u001b[0m\u001b[0mmagic_arg_s\u001b[0m\u001b[0;34m,\u001b[0m \u001b[0mcell\u001b[0m\u001b[0;34m)\u001b[0m\u001b[0;34m\u001b[0m\u001b[0m\n\u001b[0m\u001b[1;32m   2322\u001b[0m             \u001b[0;32mreturn\u001b[0m \u001b[0mresult\u001b[0m\u001b[0;34m\u001b[0m\u001b[0m\n\u001b[1;32m   2323\u001b[0m \u001b[0;34m\u001b[0m\u001b[0m\n",
      "\u001b[0;32m/usr/local/lib/python3.6/dist-packages/IPython/core/magics/script.py\u001b[0m in \u001b[0;36mnamed_script_magic\u001b[0;34m(line, cell)\u001b[0m\n\u001b[1;32m    140\u001b[0m             \u001b[0;32melse\u001b[0m\u001b[0;34m:\u001b[0m\u001b[0;34m\u001b[0m\u001b[0m\n\u001b[1;32m    141\u001b[0m                 \u001b[0mline\u001b[0m \u001b[0;34m=\u001b[0m \u001b[0mscript\u001b[0m\u001b[0;34m\u001b[0m\u001b[0m\n\u001b[0;32m--> 142\u001b[0;31m             \u001b[0;32mreturn\u001b[0m \u001b[0mself\u001b[0m\u001b[0;34m.\u001b[0m\u001b[0mshebang\u001b[0m\u001b[0;34m(\u001b[0m\u001b[0mline\u001b[0m\u001b[0;34m,\u001b[0m \u001b[0mcell\u001b[0m\u001b[0;34m)\u001b[0m\u001b[0;34m\u001b[0m\u001b[0m\n\u001b[0m\u001b[1;32m    143\u001b[0m \u001b[0;34m\u001b[0m\u001b[0m\n\u001b[1;32m    144\u001b[0m         \u001b[0;31m# write a basic docstring:\u001b[0m\u001b[0;34m\u001b[0m\u001b[0;34m\u001b[0m\u001b[0m\n",
      "\u001b[0;32m<decorator-gen-109>\u001b[0m in \u001b[0;36mshebang\u001b[0;34m(self, line, cell)\u001b[0m\n",
      "\u001b[0;32m/usr/local/lib/python3.6/dist-packages/IPython/core/magic.py\u001b[0m in \u001b[0;36m<lambda>\u001b[0;34m(f, *a, **k)\u001b[0m\n\u001b[1;32m    185\u001b[0m     \u001b[0;31m# but it's overkill for just that one bit of state.\u001b[0m\u001b[0;34m\u001b[0m\u001b[0;34m\u001b[0m\u001b[0m\n\u001b[1;32m    186\u001b[0m     \u001b[0;32mdef\u001b[0m \u001b[0mmagic_deco\u001b[0m\u001b[0;34m(\u001b[0m\u001b[0marg\u001b[0m\u001b[0;34m)\u001b[0m\u001b[0;34m:\u001b[0m\u001b[0;34m\u001b[0m\u001b[0m\n\u001b[0;32m--> 187\u001b[0;31m         \u001b[0mcall\u001b[0m \u001b[0;34m=\u001b[0m \u001b[0;32mlambda\u001b[0m \u001b[0mf\u001b[0m\u001b[0;34m,\u001b[0m \u001b[0;34m*\u001b[0m\u001b[0ma\u001b[0m\u001b[0;34m,\u001b[0m \u001b[0;34m**\u001b[0m\u001b[0mk\u001b[0m\u001b[0;34m:\u001b[0m \u001b[0mf\u001b[0m\u001b[0;34m(\u001b[0m\u001b[0;34m*\u001b[0m\u001b[0ma\u001b[0m\u001b[0;34m,\u001b[0m \u001b[0;34m**\u001b[0m\u001b[0mk\u001b[0m\u001b[0;34m)\u001b[0m\u001b[0;34m\u001b[0m\u001b[0m\n\u001b[0m\u001b[1;32m    188\u001b[0m \u001b[0;34m\u001b[0m\u001b[0m\n\u001b[1;32m    189\u001b[0m         \u001b[0;32mif\u001b[0m \u001b[0mcallable\u001b[0m\u001b[0;34m(\u001b[0m\u001b[0marg\u001b[0m\u001b[0;34m)\u001b[0m\u001b[0;34m:\u001b[0m\u001b[0;34m\u001b[0m\u001b[0m\n",
      "\u001b[0;32m/usr/local/lib/python3.6/dist-packages/IPython/core/magics/script.py\u001b[0m in \u001b[0;36mshebang\u001b[0;34m(self, line, cell)\u001b[0m\n\u001b[1;32m    243\u001b[0m             \u001b[0msys\u001b[0m\u001b[0;34m.\u001b[0m\u001b[0mstderr\u001b[0m\u001b[0;34m.\u001b[0m\u001b[0mflush\u001b[0m\u001b[0;34m(\u001b[0m\u001b[0;34m)\u001b[0m\u001b[0;34m\u001b[0m\u001b[0m\n\u001b[1;32m    244\u001b[0m         \u001b[0;32mif\u001b[0m \u001b[0margs\u001b[0m\u001b[0;34m.\u001b[0m\u001b[0mraise_error\u001b[0m \u001b[0;32mand\u001b[0m \u001b[0mp\u001b[0m\u001b[0;34m.\u001b[0m\u001b[0mreturncode\u001b[0m\u001b[0;34m!=\u001b[0m\u001b[0;36m0\u001b[0m\u001b[0;34m:\u001b[0m\u001b[0;34m\u001b[0m\u001b[0m\n\u001b[0;32m--> 245\u001b[0;31m             \u001b[0;32mraise\u001b[0m \u001b[0mCalledProcessError\u001b[0m\u001b[0;34m(\u001b[0m\u001b[0mp\u001b[0m\u001b[0;34m.\u001b[0m\u001b[0mreturncode\u001b[0m\u001b[0;34m,\u001b[0m \u001b[0mcell\u001b[0m\u001b[0;34m,\u001b[0m \u001b[0moutput\u001b[0m\u001b[0;34m=\u001b[0m\u001b[0mout\u001b[0m\u001b[0;34m,\u001b[0m \u001b[0mstderr\u001b[0m\u001b[0;34m=\u001b[0m\u001b[0merr\u001b[0m\u001b[0;34m)\u001b[0m\u001b[0;34m\u001b[0m\u001b[0m\n\u001b[0m\u001b[1;32m    246\u001b[0m \u001b[0;34m\u001b[0m\u001b[0m\n\u001b[1;32m    247\u001b[0m     \u001b[0;32mdef\u001b[0m \u001b[0m_run_script\u001b[0m\u001b[0;34m(\u001b[0m\u001b[0mself\u001b[0m\u001b[0;34m,\u001b[0m \u001b[0mp\u001b[0m\u001b[0;34m,\u001b[0m \u001b[0mcell\u001b[0m\u001b[0;34m,\u001b[0m \u001b[0mto_close\u001b[0m\u001b[0;34m)\u001b[0m\u001b[0;34m:\u001b[0m\u001b[0;34m\u001b[0m\u001b[0m\n",
      "\u001b[0;31mCalledProcessError\u001b[0m: Command 'b'\\ncd /data/eszter/exosome/reads\\n\\nexport PATH=$PATH:/data/tools/bbmap\\nexport PATH=$PATH:/data/tools/vsearch/bin\\n\\nbbmerge.sh in1=SRR6974129_1.fastq in2=SRR6974129_2.fastq out=SRR6974129__merged_bb.fq\\n#vsearch --threads 10 --fastq_mergepairs K8_forward.fq --reverse K8_reverse.fq --fastqout K8_merged_vs.fq\\n\\n'' returned non-zero exit status 1."
     ]
    }
   ],
   "source": [
    "%%bash\n",
    "\n",
    "cd /data/eszter/exosome/reads\n",
    "\n",
    "export PATH=$PATH:/data/tools/bbmap\n",
    "export PATH=$PATH:/data/tools/vsearch/bin\n",
    "\n",
    "bbmerge.sh in1=SRR6974129_1.fastq in2=SRR6974129_2.fastq out=SRR6974129__merged_bb.fq\n",
    "#vsearch --threads 10 --fastq_mergepairs K8_forward.fq --reverse K8_reverse.fq --fastqout K8_merged_vs.fq\n",
    "\n"
   ]
  },
  {
   "cell_type": "code",
   "execution_count": 53,
   "metadata": {},
   "outputs": [
    {
     "name": "stdout",
     "output_type": "stream",
     "text": [
      "@1/2\n",
      "ACACCAAGCTCAACAATGAGCCCTGGAAAATTTCTGGAATGGATTATTAAACAGAGAGTCTGTAAGCACTTAGAAAAGGCCGCGGTGAGTCCCAGGGGCCAGCACTGCTCGAAATGTACAGCATTTCTCTTTGTAACAGGATTATTAGCCT\n",
      "@1/2\n",
      "<><AAA=1A>@?@A@@/BA<??ACC;A?@=2C<ACAB.@1>@5A7A2EBBBCAAAABBC@DCDC?BCBDDC?BBACBD=CC5C7<A=A:EC>CBCCCCCCCACBDD./C><ABBC=E?DB?BBD8A@EBCCC1DBABAB@><86754666:\n",
      "@2/2\n",
      "CCAAGCTCAACAATGAGCCCTGGAAAATTTCTGGAATGGATTATTAAACAGAGAGTCTGTAAGCACTTAGAAAAGGCCGCGGTGAGTCCCAGGGGCCAGCACTGCTCGAAATGTACAGCATTTCTCTTTGTAACAGGATTATTAGCCTGCT\n",
      "@2/2\n",
      ">?>@@BA@A@BA@BC@BBABBCBAAAACBBBCCAAAC>BACABCABAACBDBDBDCCDCCBBDDACCBBDAAAACBCB=D=BDCBDCCABCDBBBDBCDDCDEDDCB=BAAEDCBBBDCCDBBBBCCCBCCBACBCAAB@><:7765678:\n",
      "@3/2\n",
      "AGATTTTGTTAGAAGCCGTCAAAATCCTGCTGACTCGAGATGCACTGTGCTGCATGTTTTCCCCGGGCACAGCAGGCTAATAATCCTGTTACAAAGAGAAATGCTGTACATTTCGAGCAGTGCTGGCCCCTGGGACTCACCGCGGCCTTTT\n"
     ]
    }
   ],
   "source": [
    "%%bash\n",
    "\n",
    "cd /data/eszter/exosome/reads\n",
    "\n",
    "head SRR6974129_2.fastq"
   ]
  },
  {
   "cell_type": "code",
   "execution_count": 54,
   "metadata": {},
   "outputs": [
    {
     "name": "stdout",
     "output_type": "stream",
     "text": [
      "@1/1\n",
      "CGGGCACAGCAGGCTAATAATCCTGTTACAAAGAGAAATGCTGTACATTTCGAGCAGTGCTGGCCCCTGGGACTCACCGCGGCCTTTTCTAAGTGCTTACAGACTCTCTGTTTAATAATCCATTCCAGAAATTTTCCAGGGCTCATTGTTG\n",
      "@1/1\n",
      ">(66?@@>ABA<BBCAACAACBAC@CBACBAAA>;AA3C?CCCCBCBCBCB8@AC9@C@BDDCDBC8ADABACCBAD?:C<=*B?0:CBD?@.7CBCC0DB2ACCCCCCCDAC;@DBACACBDBBBA@=B@DAC@=11:09<:75655668\n",
      "@2/1\n",
      "TGTTTTCCCCGGGCACAGCAGGCTAATAATCCTGTTACAAAGAGAAATGCTGTACATTTCGAGCAGTGCTGGCCCCTGGGACTCACCGCGGCCTTTTCTAAGTGCTTACAGACTCTCTGTTTAATAATCCATTCCAGAAATTTTCCAGGGC\n",
      "@2/1\n",
      "><<@AAAA@A;AABBBACCBCBCCBACBACBACCBABCBAACACAAACCCCCC?CACCBB<BDCBDBDCCCBCBBBCCCBBCCBCCB=D7DCBCBBBCDBBCCDDCBBCBCBCCBDBCDCBCBBCBACCBBCBBBBCA@??<966556558\n",
      "@3/1\n",
      "AAGTTGCGAACACCAAGCTCAACAATGAGCCCTGGAAAATTTCTGGAATGGATTATTAAACAGAGAGTCTGTAAGCACTTAGAAAAGGCCGCGGTGAGTCCCAGGGGCCAGCACTGCTCGAAATGTACAGCATTTCTCTTTGTAACAGGAT\n"
     ]
    }
   ],
   "source": [
    "%%bash\n",
    "\n",
    "cd /data/eszter/exosome/reads\n",
    "\n",
    "head SRR6974129_1.fastq"
   ]
  },
  {
   "cell_type": "code",
   "execution_count": 9,
   "metadata": {},
   "outputs": [
    {
     "name": "stdout",
     "output_type": "stream",
     "text": [
      "SRR4280648_1.fastq\n",
      "SRR4280648_2.fastq\n",
      "SRR4280649_1.fastq\n",
      "SRR4280649_2.fastq\n",
      "SRR6974116_1.fastq\n",
      "SRR6974116_2.fastq\n",
      "SRR6974120_1.fastq\n",
      "SRR6974120_2.fastq\n",
      "SRR6974125_1.fastq\n",
      "SRR6974125_2.fastq\n",
      "SRR6974129_1.fastq\n",
      "SRR6974129_2.fastq\n",
      "SRR6974129__merged.fq.assembled.fastq\n",
      "SRR6974129__merged.fq.discarded.fastq\n",
      "SRR6974129__merged.fq.unassembled.forward.fastq\n",
      "SRR6974129__merged.fq.unassembled.reverse.fastq\n",
      "SRR6974129__merged_bb.fq\n",
      "SRR6974138_1.fastq\n",
      "SRR6974138_2.fastq\n",
      "SRR6974140_1.fastq\n",
      "SRR6974140_2.fastq\n",
      "SRR6974143_1.fastq\n",
      "SRR6974143_2.fastq\n",
      "SRR6974147_1.fastq\n",
      "SRR6974147_2.fastq\n",
      "SRRs.txt\n",
      "SRRs2.txt\n",
      "nohup.out\n",
      "srrs\n"
     ]
    }
   ],
   "source": [
    "%%bash\n",
    "\n",
    "cd /data/eszter/exosome/reads\n",
    "\n",
    "ls"
   ]
  },
  {
   "cell_type": "code",
   "execution_count": 40,
   "metadata": {},
   "outputs": [
    {
     "name": "stdout",
     "output_type": "stream",
     "text": [
      "Process is interrupted.\n"
     ]
    }
   ],
   "source": [
    "%%bash\n",
    "\n",
    "cd /data/eszter/exosome/reads\n",
    "\n",
    "export PATH=$PATH:/data/tools/pear-0.9.11-linux-x86_64/bin\n",
    "\n",
    "\n",
    "for (( i = 4280648; i <= 6974147; i++ ))\n",
    "do pear -f SRR$i_1.fastq -r SRR$i_2.fastq -o $i_merged.fq\n",
    "done\n",
    "\n",
    "\n",
    "\n",
    "#for f in *.fastq \n",
    "    #do \n",
    "    #pear -f *_1.fastq -r *_2.fastq -o *_merged.fq\n",
    "    #done\n",
    "\n",
    "#for (( i = 554; i <= 636; i++ ))\n",
    "    #do pandaseq -F -f SRR6860$i_1.fastq -r SRR6860$i_2.fastq -d rbfkms -u SRR6860$i.fa 2> SRR6860$i.txt 1> SRR6860$i.fastq\n",
    "    #done\n",
    "\n"
   ]
  },
  {
   "cell_type": "code",
   "execution_count": 8,
   "metadata": {},
   "outputs": [
    {
     "name": "stdout",
     "output_type": "stream",
     "text": [
      "Process is terminated.\n"
     ]
    }
   ],
   "source": [
    "%%bash\n",
    "\n",
    "cd /data/eszter/exosome/reads\n",
    "\n",
    "export PATH=$PATH:/data/tools/bbmap\n",
    "#export PATH=$PATH:/data/tools/vsearch/bin\n",
    "\n",
    "for (( i = 4280648; i <= 6974147; i++ ))\n",
    "\n",
    "do \n",
    "    bbmerge.sh in1=SRR$i_1.fastq in2=SRR$i_2.fastq out=$i_merged.fq\n",
    "done\n",
    "\n"
   ]
  },
  {
   "cell_type": "code",
   "execution_count": 14,
   "metadata": {},
   "outputs": [
    {
     "name": "stdout",
     "output_type": "stream",
     "text": [
      "Process is terminated.\n"
     ]
    }
   ],
   "source": [
    "%%bash\n",
    "\n",
    "cd /data/eszter/exosome/reads\n",
    "\n",
    "export PATH=$PATH:/data/tools/bbmap\n",
    "    \n",
    "frwd=\"frwd_SRRs.txt\"\n",
    "\n",
    "echo \"SRR4280648_1.fastq\n",
    "SRR4280649_1.fastq\n",
    "SRR6974116_1.fastq\n",
    "SRR6974120_1.fastq\n",
    "SRR6974125_1.fastq\n",
    "SRR6974129_1.fastq\n",
    "SRR6974138_1.fastq\n",
    "SRR6974140_1.fastq\n",
    "SRR6974143_1.fastq\n",
    "SRR6974147_1.fastq\" > frwd_SRRs.txt\n",
    "\n",
    "#>> SRRs.txt így appendol egy sort/sorokat\n",
    "#> SRRs.txt így felülírja\n",
    "\n",
    "rvrs=\"rvrs_SRRs.txt\"\n",
    "\n",
    "echo \"SRR4280648_2.fastq\n",
    "SRR4280649_2.fastq\n",
    "SRR6974116_2.fastq\n",
    "SRR6974120_2.fastq\n",
    "SRR6974125_2.fastq\n",
    "SRR6974129_2.fastq\n",
    "SRR6974138_2.fastq\n",
    "SRR6974140_2.fastq\n",
    "SRR6974143_2.fastq\n",
    "SRR6974147_2.fastq\" > rvrs_SRRs.txt\n",
    "\n",
    "while read -r line\n",
    "do\n",
    " #name=\"$line\"\n",
    " bbmerge.sh in1=$frwd in2=$rvrs out=$_merged.fq\n",
    "done < frwd_SRRs.txt < rvrs_SRRs.txt"
   ]
  },
  {
   "cell_type": "code",
   "execution_count": 15,
   "metadata": {},
   "outputs": [
    {
     "name": "stdout",
     "output_type": "stream",
     "text": [
      "total 55G\n",
      "-rw-rw-r-- 1 eszter eszter  13G Nov 24 14:52 SRR4280648_1.fastq\n",
      "-rw-rw-r-- 1 eszter eszter  13G Nov 24 14:52 SRR4280648_2.fastq\n",
      "-rw-rw-r-- 1 eszter eszter 6.0G Nov 24 14:42 SRR4280649_1.fastq\n",
      "-rw-rw-r-- 1 eszter eszter 6.0G Nov 24 14:42 SRR4280649_2.fastq\n",
      "-rw-rw-r-- 1 eszter eszter 1.7G Nov 24 14:49 SRR6974116_1.fastq\n",
      "-rw-rw-r-- 1 eszter eszter 1.7G Nov 24 14:49 SRR6974116_2.fastq\n",
      "-rw-rw-r-- 1 eszter eszter 1.1G Nov 24 15:11 SRR6974120_1.fastq\n",
      "-rw-rw-r-- 1 eszter eszter 1.1G Nov 24 15:11 SRR6974120_2.fastq\n",
      "-rw-rw-r-- 1 eszter eszter 922M Nov 24 15:47 SRR6974125_1.fastq\n",
      "-rw-rw-r-- 1 eszter eszter 919M Nov 24 15:47 SRR6974125_2.fastq\n",
      "-rw-rw-r-- 1 eszter eszter 448M Nov 24 15:51 SRR6974129_1.fastq\n",
      "-rw-rw-r-- 1 eszter eszter 446M Nov 24 15:51 SRR6974129_2.fastq\n",
      "-rw-rw-r-- 1 eszter eszter    0 Nov 25 16:50 SRR6974129__merged.fq.assembled.fastq\n",
      "-rw-rw-r-- 1 eszter eszter    0 Nov 25 16:50 SRR6974129__merged.fq.discarded.fastq\n",
      "-rw-rw-r-- 1 eszter eszter    0 Nov 25 16:50 SRR6974129__merged.fq.unassembled.forward.fastq\n",
      "-rw-rw-r-- 1 eszter eszter    0 Nov 25 16:50 SRR6974129__merged.fq.unassembled.reverse.fastq\n",
      "-rw-rw-r-- 1 eszter eszter 476M Dec 16 13:34 SRR6974129__merged_bb.fq\n",
      "-rw-rw-r-- 1 eszter eszter 1.2G Nov 24 16:10 SRR6974138_1.fastq\n",
      "-rw-rw-r-- 1 eszter eszter 1.2G Nov 24 16:10 SRR6974138_2.fastq\n",
      "-rw-rw-r-- 1 eszter eszter 932M Nov 24 16:38 SRR6974140_1.fastq\n",
      "-rw-rw-r-- 1 eszter eszter 924M Nov 24 16:38 SRR6974140_2.fastq\n",
      "-rw-rw-r-- 1 eszter eszter 880M Nov 24 16:55 SRR6974143_1.fastq\n",
      "-rw-rw-r-- 1 eszter eszter 875M Nov 24 16:55 SRR6974143_2.fastq\n",
      "-rw-rw-r-- 1 eszter eszter 1.2G Nov 24 17:20 SRR6974147_1.fastq\n",
      "-rw-rw-r-- 1 eszter eszter 1.2G Nov 24 17:20 SRR6974147_2.fastq\n",
      "-rw-rw-r-- 1 eszter eszter  176 Nov 24 14:23 SRRs.txt\n",
      "-rw-rw-r-- 1 eszter eszter   22 Nov 24 14:37 SRRs2.txt\n",
      "-rw-rw-r-- 1 eszter eszter  190 Dec 16 13:57 frwd_SRRs.txt\n",
      "-rw------- 1 eszter eszter  146 Nov 24 14:52 nohup.out\n",
      "-rw-rw-r-- 1 eszter eszter  190 Dec 16 13:57 rvrs_SRRs.txt\n",
      "-rw-rw-r-- 1 eszter eszter   88 Nov 24 14:12 srrs\n"
     ]
    }
   ],
   "source": [
    "%%bash\n",
    "\n",
    "cd /data/eszter/exosome/reads\n",
    "\n",
    "ls -lh"
   ]
  },
  {
   "cell_type": "code",
   "execution_count": null,
   "metadata": {},
   "outputs": [],
   "source": [
    "#ciklus próba\n",
    "\n",
    "for f in *fastq\n",
    "do pear -f SRR*_1.fastq -r SRR$i_2.fastq -o $i_merged.fq\n",
    "done"
   ]
  },
  {
   "cell_type": "markdown",
   "metadata": {},
   "source": [
    "# DIAMOND MEGAN6\n",
    "\n",
    "diamond: protein aligner\n",
    "\n",
    "megan6: classifier\n",
    "\n",
    "\n",
    "[elolvasni](https://wiki.bils.se/wiki/Annotating_metaomics_reads_using_make,_DIAMOND,_MEGAN_and_R_at_UPPMAX)"
   ]
  },
  {
   "cell_type": "code",
   "execution_count": 1,
   "metadata": {},
   "outputs": [
    {
     "name": "stdout",
     "output_type": "stream",
     "text": [
      "total 98G\n",
      "-rw-rw-r-- 1 eszter eszter 2.8G Nov 23 15:01 SRR6974114.fastq\n",
      "-rw-rw-r-- 1 eszter eszter 3.6G Nov 20 18:40 SRR6974115.fastq\n",
      "-rw-rw-r-- 1 eszter eszter 289M Nov 23 15:06 SRR6974116.fastq\n",
      "-rw-rw-r-- 1 eszter eszter 1.2G Nov 23 15:06 SRR6974117.fastq\n",
      "-rw-rw-r-- 1 eszter eszter 1.2G Nov 23 15:12 SRR6974118.fastq\n",
      "-rw-rw-r-- 1 eszter eszter 3.5G Nov 20 23:33 SRR6974119.fastq\n",
      "-rw-rw-r-- 1 eszter eszter 2.3G Nov 23 21:45 SRR6974120.fastq\n",
      "-rw-rw-r-- 1 eszter eszter  25G Nov 23 21:23 SRR6974121.fastq\n",
      "-rw-rw-r-- 1 eszter eszter 2.9G Nov 23 22:31 SRR6974122.fastq\n",
      "-rw-rw-r-- 1 eszter eszter 3.3G Nov 23 22:12 SRR6974123.fastq\n",
      "-rw-rw-r-- 1 eszter eszter 6.1G Nov 24 09:46 SRR6974124.fastq\n",
      "-rw-rw-r-- 1 eszter eszter 1.9G Nov 24 10:20 SRR6974125.fastq\n",
      "-rw-rw-r-- 1 eszter eszter 1.3G Nov 24 05:59 SRR6974126.fastq\n",
      "-rw-rw-r-- 1 eszter eszter 2.0G Nov 24 06:27 SRR6974127.fastq\n",
      "-rw-rw-r-- 1 eszter eszter 4.0G Nov 24 12:10 SRR6974128.fastq\n",
      "-rw-rw-r-- 1 eszter eszter 939M Nov 24 12:13 SRR6974129.fastq\n",
      "-rw-rw-r-- 1 eszter eszter 1.7G Nov 24 10:43 SRR6974130.fastq\n",
      "-rw-rw-r-- 1 eszter eszter 1.7G Nov 24 11:10 SRR6974131.fastq\n",
      "-rw-rw-r-- 1 eszter eszter 1.9G Nov 24 12:34 SRR6974132.fastq\n",
      "-rw-rw-r-- 1 eszter eszter 1.6G Nov 24 12:48 SRR6974133.fastq\n",
      "-rw-rw-r-- 1 eszter eszter    0 Nov 27 21:36 SRR6974134.daa\n",
      "-rw-rw-r-- 1 eszter eszter  16G Nov 25 01:18 SRR6974134.fastq\n",
      "-rw-rw-r-- 1 eszter eszter 1.6G Nov 27 21:22 SRR6974134__merged_bb.fq\n",
      "-rw-rw-r-- 1 eszter eszter  74M Nov 27 21:52 SRR6974134__merged_bb.out\n",
      "-rw-rw-r-- 1 eszter eszter 595K Nov 27 21:52 SRR6974134__merged_bb.rpt\n",
      "-rw-rw-r-- 1 eszter eszter 7.7G Nov 27 21:01 SRR6974134_forward.fq\n",
      "-rw-rw-r-- 1 eszter eszter 108M Nov 27 21:24 SRR6974134_merged.fq.assembled.fastq\n",
      "-rw-rw-r-- 1 eszter eszter    0 Nov 27 21:17 SRR6974134_merged.fq.discarded.fastq\n",
      "-rw-rw-r-- 1 eszter eszter  66M Nov 27 21:24 SRR6974134_merged.fq.unassembled.forward.fastq\n",
      "-rw-rw-r-- 1 eszter eszter  66M Nov 27 21:24 SRR6974134_merged.fq.unassembled.reverse.fastq\n",
      "-rw-rw-r-- 1 eszter eszter    0 Nov 27 21:16 SRR6974134_pandaseq_merged.fastq\n",
      "-rw-rw-r-- 1 eszter eszter 7.7G Nov 27 21:01 SRR6974134_reverse.fq\n",
      "-rw-rw-r-- 1 eszter eszter 1.9G Nov 24 20:24 SRR6974135.fastq\n",
      "-rw-rw-r-- 1 eszter eszter 2.0G Nov 24 20:12 SRR6974136.fastq\n",
      "-rw-rw-r-- 1 eszter eszter  16G Nov 24 19:41 SRR6974137.fastq\n",
      "-rw-rw-r-- 1 eszter eszter 2.4G Nov 24 05:46 SRR6974138.fastq\n",
      "-rw-rw-r-- 1 eszter eszter  24G Nov 24 05:29 SRR6974139.fastq\n",
      "-rw-rw-r-- 1 eszter eszter 2.0G Nov 25 01:45 SRR6974140.fastq\n",
      "-rw-rw-r-- 1 eszter eszter 2.5G Nov 23 23:59 SRR6974141.fastq\n",
      "-rw-rw-r-- 1 eszter eszter 3.0G Nov 23 23:34 SRR6974142.fastq\n",
      "-rw-rw-r-- 1 eszter eszter 1.8G Nov 23 22:57 SRR6974143.fastq\n",
      "-rw-rw-r-- 1 eszter eszter 1.2G Nov 23 22:41 SRR6974144.fastq\n",
      "-rw-rw-r-- 1 eszter eszter 2.4G Nov 24 01:40 SRR6974145.fastq\n",
      "-rw-rw-r-- 1 eszter eszter 1.9G Nov 24 01:19 SRR6974146.fastq\n",
      "-rw-rw-r-- 1 eszter eszter 2.4G Nov 24 00:51 SRR6974147.fastq\n",
      "-rw-rw-r-- 1 eszter eszter 2.2G Nov 24 00:26 SRR6974148.fastq\n",
      "-rw-rw-r-- 1 eszter eszter  390 Nov 23 12:50 SRRs.txt\n",
      "-rw-rw-r-- 1 eszter eszter  93K Nov 27 22:21 exosome_vesicula.ipynb\n",
      "drwxrwxr-x 2 eszter eszter    3 Nov 27 22:10 proba_exosome_SRR6974134\n",
      "-rw-rw-r-- 1 eszter eszter 835K Nov 27 22:10 proba_exosome_SRR6974134.html\n",
      "drwxrwxr-x 2 eszter eszter   27 Nov 24 13:54 reads\n"
     ]
    }
   ],
   "source": [
    "%%bash\n",
    "\n",
    "ls -lh\n"
   ]
  },
  {
   "cell_type": "code",
   "execution_count": null,
   "metadata": {},
   "outputs": [],
   "source": [
    "%%bash\n",
    "\n",
    "export PATH=$PATH:/data/tools/diamond\n",
    "\n",
    "db='/data/dbs'\n",
    "\n",
    "fa='SRR6974134__merged_bb.fq'\n",
    "da=${fa/'__merged_bb.fq'/'.daa'}\n",
    "\n",
    "diamond blastx --threads 35 -d $db/nr -q $fa --daa $da\n",
    "\n",
    "ls -lh *.daa"
   ]
  },
  {
   "cell_type": "code",
   "execution_count": 102,
   "metadata": {},
   "outputs": [
    {
     "name": "stdout",
     "output_type": "stream",
     "text": [
      "Process is terminated.\n"
     ]
    }
   ],
   "source": [
    "%%bash\n",
    "\n",
    "export PATH=$PATH:/data/tools/diamond\n",
    "\n",
    "db='/data/dbs'\n",
    "\n",
    "fa='SRR6974134__merged_bb.fq'\n",
    "da=${fa/'__merged_bb.fq'/'.daa'}\n",
    "\n",
    "diamond blastx --threads 35 -d $db/nr -q $fa --daa $da\n",
    "\n",
    "ls -lh *.daa"
   ]
  },
  {
   "cell_type": "code",
   "execution_count": 103,
   "metadata": {},
   "outputs": [
    {
     "name": "stdout",
     "output_type": "stream",
     "text": [
      "-rw-rw-r-- 1 eszter eszter 0 Nov 27 21:36 SRR6974134.daa\n"
     ]
    }
   ],
   "source": [
    "%%bash\n",
    "\n",
    "ls -lh *.daa"
   ]
  },
  {
   "cell_type": "code",
   "execution_count": null,
   "metadata": {},
   "outputs": [],
   "source": [
    "\n",
    "export PATH=$PATH:/data/tools/megan/tools\n",
    "\n",
    "db='/data/dbs'\n",
    "\n",
    "fa='SRR6974134__merged_bb.fq'\n",
    "da=${fa/'__merged_bb.fq'/'.daa'}\n",
    "\n",
    "daa-meganizer -i $da --acc2taxa $db/prot_acc2tax-Jun2018X1.abin\n",
    "\n",
    "txt=${da/'daa'/'txt'}\n",
    "\n",
    "daa2info -i $da -c2c Taxonomy > $txt    \n",
    "\n",
    "head SRR6974134*.txt"
   ]
  },
  {
   "cell_type": "markdown",
   "metadata": {},
   "source": [
    "# kraken"
   ]
  },
  {
   "cell_type": "code",
   "execution_count": 105,
   "metadata": {},
   "outputs": [
    {
     "name": "stderr",
     "output_type": "stream",
     "text": [
      "Loading database information... done.\n",
      "2049808 sequences (807.19 Mbp) processed in 18.924s (6499.0 Kseq/m, 2559.25 Mbp/m).\n",
      "  179702 sequences classified (8.77%)\n",
      "  1870106 sequences unclassified (91.23%)\n"
     ]
    }
   ],
   "source": [
    "%%bash\n",
    "\n",
    "export PATH=$PATH:/data/tools/kraken2/bin/\n",
    "\n",
    "db='/data/dbs/kraken2'\n",
    "\n",
    "kraken2 --threads 10 \\\n",
    "  --db $db/ncbi \\\n",
    "  --use-mpa-style \\\n",
    "  --report SRR6974134__merged_bb.rpt SRR6974134__merged_bb.fq > SRR6974134__merged_bb.out"
   ]
  },
  {
   "cell_type": "code",
   "execution_count": 106,
   "metadata": {},
   "outputs": [
    {
     "name": "stdout",
     "output_type": "stream",
     "text": [
      "d__Bacteria\t154418\n",
      "d__Bacteria|p__Proteobacteria\t124341\n",
      "d__Bacteria|p__Proteobacteria|c__Gammaproteobacteria\t109415\n",
      "d__Bacteria|p__Proteobacteria|c__Gammaproteobacteria|o__Enterobacterales\t65668\n",
      "d__Bacteria|p__Proteobacteria|c__Gammaproteobacteria|o__Enterobacterales|f__Enterobacteriaceae\t65185\n",
      "d__Bacteria|p__Proteobacteria|c__Gammaproteobacteria|o__Enterobacterales|f__Enterobacteriaceae|g__Klebsiella\t46054\n",
      "d__Bacteria|p__Proteobacteria|c__Gammaproteobacteria|o__Enterobacterales|f__Enterobacteriaceae|g__Klebsiella|s__Klebsiella pneumoniae\t46019\n",
      "d__Bacteria|p__Proteobacteria|c__Gammaproteobacteria|o__Enterobacterales|f__Enterobacteriaceae|g__Klebsiella|s__Klebsiella oxytoca\t7\n",
      "d__Bacteria|p__Proteobacteria|c__Gammaproteobacteria|o__Enterobacterales|f__Enterobacteriaceae|g__Klebsiella|s__Klebsiella aerogenes\t5\n",
      "d__Bacteria|p__Proteobacteria|c__Gammaproteobacteria|o__Enterobacterales|f__Enterobacteriaceae|g__Klebsiella|s__Klebsiella variicola\t4\n"
     ]
    }
   ],
   "source": [
    "%%bash\n",
    "\n",
    "head SRR6974134__merged_bb.rpt\n"
   ]
  },
  {
   "cell_type": "code",
   "execution_count": 18,
   "metadata": {},
   "outputs": [
    {
     "data": {
      "text/html": [
       "<dl class=dl-horizontal>\n",
       "\t<dt>Rank1</dt>\n",
       "\t\t<dd>'Bacteria'</dd>\n",
       "\t<dt>Phylum</dt>\n",
       "\t\t<dd>'Proteobacteria'</dd>\n",
       "</dl>\n"
      ],
      "text/latex": [
       "\\begin{description*}\n",
       "\\item[Rank1] 'Bacteria'\n",
       "\\item[Phylum] 'Proteobacteria'\n",
       "\\end{description*}\n"
      ],
      "text/markdown": [
       "Rank1\n",
       ":   'Bacteria'Phylum\n",
       ":   'Proteobacteria'\n",
       "\n"
      ],
      "text/plain": [
       "           Rank1           Phylum \n",
       "      \"Bacteria\" \"Proteobacteria\" "
      ]
     },
     "metadata": {},
     "output_type": "display_data"
    },
    {
     "data": {
      "text/plain": [
       "phyloseq-class experiment-level object\n",
       "otu_table()   OTU Table:         [ 5203 taxa and 1 samples ]\n",
       "sample_data() Sample Data:       [ 1 samples by 1 sample variables ]\n",
       "tax_table()   Taxonomy Table:    [ 5203 taxa by 7 taxonomic ranks ]"
      ]
     },
     "metadata": {},
     "output_type": "display_data"
    }
   ],
   "source": [
    "library(phyloseq)\n",
    "library(psadd)\n",
    "library(microbiome)\n",
    "\n",
    "options(stringsAsFactors=F)\n",
    "\n",
    "f = 'SRR6974134__merged_bb.rpt'\n",
    "\n",
    "tmp = read.table(f, sep='\\t')\n",
    "\n",
    "tlist = strsplit(tmp[,1], '\\\\|')\n",
    "\n",
    "taxlist = list()\n",
    "\n",
    "parse_taxonomy_greengenes(tlist[[2]])\n",
    "\n",
    "\n",
    "taxlist = list()\n",
    "for(i in 1:length(tlist)){\n",
    "  taxvec = tlist[[i]]\n",
    "  taxlist[[length(taxlist)+1]] = parse_taxonomy_greengenes(taxvec)\n",
    "}\n",
    "\n",
    "names(taxlist) = paste('sp', rownames(tmp), sep='')\n",
    "\n",
    "taxmat = build_tax_table(taxlist)\n",
    "\n",
    "otumat = data.frame(minta1=tmp[,2])\n",
    "\n",
    "OTU = otu_table(otumat, taxa_are_rows=TRUE)\n",
    "\n",
    "TAX = tax_table(taxmat)\n",
    "\n",
    "sd = data.frame(SampleID=colnames(otumat))\n",
    "\n",
    "sd = sample_data(sd)\n",
    "rownames(sd) = sd$SampleID\n",
    "\n",
    "physeq = phyloseq(OTU, TAX, sd)\n",
    "\n",
    "physeq\n"
   ]
  },
  {
   "cell_type": "code",
   "execution_count": 19,
   "metadata": {},
   "outputs": [],
   "source": [
    "plot_krona(physeq, 'proba_exosome_SRR6974134', 'SampleID', trim=T)"
   ]
  }
 ],
 "metadata": {
  "kernelspec": {
   "display_name": "Python 3",
   "language": "python",
   "name": "python3"
  },
  "language_info": {
   "codemirror_mode": {
    "name": "ipython",
    "version": 3
   },
   "file_extension": ".py",
   "mimetype": "text/x-python",
   "name": "python",
   "nbconvert_exporter": "python",
   "pygments_lexer": "ipython3",
   "version": "3.6.6"
  }
 },
 "nbformat": 4,
 "nbformat_minor": 2
}
